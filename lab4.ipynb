{
  "nbformat": 4,
  "nbformat_minor": 0,
  "metadata": {
    "colab": {
      "name": "lab4.ipynb",
      "provenance": [],
      "collapsed_sections": [],
      "include_colab_link": true
    },
    "kernelspec": {
      "display_name": "Python 3",
      "name": "python3"
    }
  },
  "cells": [
    {
      "cell_type": "markdown",
      "metadata": {
        "id": "view-in-github",
        "colab_type": "text"
      },
      "source": [
        "<a href=\"https://colab.research.google.com/github/HIDAN122/HIDAN122/blob/main/lab4.ipynb\" target=\"_parent\"><img src=\"https://colab.research.google.com/assets/colab-badge.svg\" alt=\"Open In Colab\"/></a>"
      ]
    },
    {
      "cell_type": "markdown",
      "metadata": {
        "id": "ARnGgkc_oT4M"
      },
      "source": [
        "**Лабораторна робота №4**\n",
        "\n",
        "**Тема:** “Реалізація методу градієнтного спуску”\n",
        "\n",
        "**Мета:** Нехай ми маємо деяку функцію. Нам потрібно знайти її глобальний мінімум з\n",
        "використанням методу градієнтного спуску та дослідити результати методу відповідно\n",
        "до різних параметрів alpha, eps.\n"
      ]
    },
    {
      "cell_type": "code",
      "metadata": {
        "id": "XAG3TC8i6Djw"
      },
      "source": [
        "from matplotlib import pylab as plt\n",
        "import pandas as pd\n",
        "from scipy.misc import derivative"
      ],
      "execution_count": null,
      "outputs": []
    },
    {
      "cell_type": "markdown",
      "metadata": {
        "id": "MIkaMN1LpibP"
      },
      "source": [
        "Побудувати графік функції (функцію обераємо самостійно)."
      ]
    },
    {
      "cell_type": "code",
      "metadata": {
        "id": "flMEq9x-6JXa"
      },
      "source": [
        "def f(x):\n",
        "    return (x + 30)**2 + 40"
      ],
      "execution_count": null,
      "outputs": []
    },
    {
      "cell_type": "markdown",
      "metadata": {
        "id": "ckV88jo2pqf0"
      },
      "source": [
        "Знаходимо похідну за допомогою скінченних різниць, а для тестування\n",
        "використовуємо бібліотеку “derivative”."
      ]
    },
    {
      "cell_type": "code",
      "metadata": {
        "id": "iF51IDrX-SFi",
        "colab": {
          "base_uri": "https://localhost:8080/"
        },
        "outputId": "3b377037-27a5-4466-bb97-b645f38305ac"
      },
      "source": [
        "def df(x):\n",
        "    eps = 10e-11\n",
        "    return (f(x + eps) - f(x)) / eps\n",
        "\n",
        "def std_df(x):\n",
        "    return derivative(f, x, dx=10e-11)\n",
        "\n",
        "der_custom = df(0)\n",
        "der_lib = std_df(0)\n",
        "print(f\"custom = {der_custom}\")\n",
        "print(f\"std lib = {der_lib}\")"
      ],
      "execution_count": null,
      "outputs": [
        {
          "output_type": "stream",
          "name": "stdout",
          "text": [
            "custom = 59.999365475960076\n",
            "std lib = 59.999365475960076\n"
          ]
        }
      ]
    },
    {
      "cell_type": "markdown",
      "metadata": {
        "id": "nWin4IgUqBA8"
      },
      "source": [
        "Реалізація градієнтного спуску для пошуку глобального мінімуму функції."
      ]
    },
    {
      "cell_type": "code",
      "metadata": {
        "id": "-vX6Tj6vuxiJ"
      },
      "source": [
        "def compute_gradient_descent(alpha, eps, epoch, derivative): \n",
        "  x_prev = 0\n",
        "  y_prev = f(x_prev)\n",
        "  Y = { x_prev: y_prev}\n",
        "  for _ in range(epoch):\n",
        "      # derivative - tan angle\n",
        "      # alpha - learning rate\n",
        "      x_new = x_prev - alpha * derivative(x_prev)\n",
        "      \n",
        "      y_new = f(x_new) \n",
        "      Y[x_new] = y_new\n",
        "\n",
        "      if abs(x_new - x_prev) <= eps: \n",
        "          return Y\n",
        "\n",
        "      x_prev = x_new \n",
        "  return Y;"
      ],
      "execution_count": null,
      "outputs": []
    },
    {
      "cell_type": "markdown",
      "metadata": {
        "id": "johImYNqqExC"
      },
      "source": [
        "Виведення результату (глобального мінімуму) градієнтного спуску."
      ]
    },
    {
      "cell_type": "code",
      "metadata": {
        "colab": {
          "base_uri": "https://localhost:8080/"
        },
        "id": "FCXhMGtju10z",
        "outputId": "13183de1-ddb1-4c74-a8e3-ad3f3d1c9088"
      },
      "source": [
        "gradient = compute_gradient_descent(0.2, 10e-6, 10000, df) \n",
        "actual_iteration = len(gradient)\n",
        "print(f\"actual_iteration = {actual_iteration}\")\n",
        "table = pd.DataFrame(gradient.items(), columns=[\"x\", \"y\"]) \n",
        "print(table)\n",
        "result = table.tail(1) \n",
        "print(f\"\\nGlobal minimum:\\n{result}\")"
      ],
      "execution_count": null,
      "outputs": [
        {
          "output_type": "stream",
          "name": "stdout",
          "text": [
            "actual_iteration = 29\n",
            "            x           y\n",
            "0    0.000000  940.000000\n",
            "1  -11.999873  364.004569\n",
            "2  -19.200115  156.637510\n",
            "3  -23.519988   81.990559\n",
            "4  -26.111934   55.117058\n",
            "5  -27.667127   45.442295\n",
            "6  -28.600255   41.959287\n",
            "7  -29.160134   40.705375\n",
            "8  -29.496064   40.253951\n",
            "9  -29.697631   40.091427\n",
            "10 -29.818580   40.032913\n",
            "11 -29.891140   40.011850\n",
            "12 -29.934682   40.004266\n",
            "13 -29.960802   40.001536\n",
            "14 -29.976491   40.000553\n",
            "15 -29.985898   40.000199\n",
            "16 -29.991540   40.000072\n",
            "17 -29.994922   40.000026\n",
            "18 -29.996954   40.000009\n",
            "19 -29.998176   40.000003\n",
            "20 -29.998901   40.000001\n",
            "21 -29.999342   40.000000\n",
            "22 -29.999612   40.000000\n",
            "23 -29.999768   40.000000\n",
            "24 -29.999853   40.000000\n",
            "25 -29.999910   40.000000\n",
            "26 -29.999939   40.000000\n",
            "27 -29.999967   40.000000\n",
            "28 -29.999981   40.000000\n",
            "\n",
            "Global minimum:\n",
            "            x     y\n",
            "28 -29.999981  40.0\n"
          ]
        }
      ]
    },
    {
      "cell_type": "markdown",
      "metadata": {
        "id": "mb_dSimsrQ9F"
      },
      "source": [
        "Візуалізація результу градієнтного спуску на графіку та візуалізація локального мінімуму у вигляді маркера."
      ]
    },
    {
      "cell_type": "code",
      "metadata": {
        "id": "pAu9QQN8u9OL",
        "colab": {
          "base_uri": "https://localhost:8080/",
          "height": 265
        },
        "outputId": "3177474b-376f-4883-d96e-d48002306abf"
      },
      "source": [
        "x = list(gradient.keys())\n",
        "y = list(gradient.values())\n",
        "f_x = range(int(min(x[0], x[-1])) - 5, int(max(x[0], x[-1])) + 5)\n",
        "f_y = [f(xn) for xn in f_x]\n",
        "plt.plot(f_x, f_y, x, y, 'ro--', result['x'], result['y'],'bo') \n",
        "plt.legend(['y = (x + 15)**2 + 25', 'gradient descent', 'result'])\n",
        "plt.show()"
      ],
      "execution_count": null,
      "outputs": [
        {
          "output_type": "display_data",
          "data": {
            "image/png": "[encoded data removed]",
            "text/plain": [
              "<Figure size 432x288 with 1 Axes>"
            ]
          },
          "metadata": {
            "needs_background": "light"
          }
        }
      ]
    },
    {
      "cell_type": "markdown",
      "metadata": {
        "id": "XTHvi1FbrWBu"
      },
      "source": [
        "Тестування методу (підбір параметрів: alpha, eps; порівняння результатів пошуку похідної функції реалізованої з використанням скінченних різниць та бібліотеки) та аналіз результатів методу градієнтного спуску."
      ]
    },
    {
      "cell_type": "code",
      "metadata": {
        "id": "NLRPJL8lvB78"
      },
      "source": [
        "def testAlphaEps(alpha, eps):\n",
        "    gradient = compute_gradient_descent(alpha, eps, epoch=10000, derivative=df)\n",
        "    x = list(gradient.keys())[-1]\n",
        "    y = gradient[x]\n",
        "    print(f\"\\nGlobal minimum for alpha = {alpha}, eps = {eps}, iterations = {len(gradient)}:\")\n",
        "    print(f\" custom dx: x = {x}, y = {y}\")\n",
        "    std_gradient = compute_gradient_descent(alpha, eps, epoch=10000, derivative=std_df)\n",
        "    std_x = list(std_gradient.keys())[-1]\n",
        "    std_y = std_gradient[std_x]\n",
        "    print(f\" stdlib dx: x = {std_x}, y = {std_y}\")\n",
        "    print(f\" delta std - custom = {abs(std_y - y):0.10f}\")"
      ],
      "execution_count": null,
      "outputs": []
    },
    {
      "cell_type": "markdown",
      "metadata": {
        "id": "PDyB_PywrdXN"
      },
      "source": [
        "Змінюємо alpha для порівняння результатів"
      ]
    },
    {
      "cell_type": "code",
      "metadata": {
        "colab": {
          "base_uri": "https://localhost:8080/"
        },
        "id": "Px1cLFK9vFby",
        "outputId": "8a3fb14d-6c35-4c35-9a0b-cf2dc4f13e51"
      },
      "source": [
        "testAlphaEps(0.2, 10e-3)\n",
        "testAlphaEps(0.02, 10e-3)\n",
        "testAlphaEps(0.002, 10e-3)"
      ],
      "execution_count": null,
      "outputs": [
        {
          "output_type": "stream",
          "name": "stdout",
          "text": [
            "\n",
            "Global minimum for alpha = 0.2, eps = 0.01, iterations = 16:\n",
            " custom dx: x = -29.985898208906292, y = 40.00019886051205\n",
            " stdlib dx: x = -29.985898208906292, y = 40.00019886051205\n",
            " delta std - custom = 0.0000000000\n",
            "\n",
            "Global minimum for alpha = 0.02, eps = 0.01, iterations = 120:\n",
            " custom dx: x = -29.766962938992947, y = 40.05430627180281\n",
            " stdlib dx: x = -29.766961517907475, y = 40.05430693413599\n",
            " delta std - custom = 0.0000006623\n",
            "\n",
            "Global minimum for alpha = 0.002, eps = 0.01, iterations = 622:\n",
            " custom dx: x = -27.510115785389644, y = 46.19952340216583\n",
            " stdlib dx: x = -27.51011891177768, y = 46.19950783348716\n",
            " delta std - custom = 0.0000155687\n"
          ]
        }
      ]
    },
    {
      "cell_type": "markdown",
      "metadata": {
        "id": "NkB6wZE3rgdr"
      },
      "source": [
        "Змінюємо eps для порівняння результатів"
      ]
    },
    {
      "cell_type": "code",
      "metadata": {
        "colab": {
          "base_uri": "https://localhost:8080/"
        },
        "id": "GLVPU82ybmzc",
        "outputId": "78282a78-0758-4253-846c-695db63d081b"
      },
      "source": [
        "testAlphaEps(0.2, 10e-3)\n",
        "testAlphaEps(0.2, 10e-4)\n",
        "testAlphaEps(0.2, 10e-5)\n",
        "testAlphaEps(0.2, 10e-9)"
      ],
      "execution_count": null,
      "outputs": [
        {
          "output_type": "stream",
          "name": "stdout",
          "text": [
            "\n",
            "Global minimum for alpha = 0.2, eps = 0.01, iterations = 16:\n",
            " custom dx: x = -29.985898208906292, y = 40.00019886051205\n",
            " stdlib dx: x = -29.985898208906292, y = 40.00019886051205\n",
            " delta std - custom = 0.0000000000\n",
            "\n",
            "Global minimum for alpha = 0.2, eps = 0.001, iterations = 21:\n",
            " custom dx: x = -29.998901140970702, y = 40.00000120749117\n",
            " stdlib dx: x = -29.998901140970702, y = 40.00000120749117\n",
            " delta std - custom = 0.0000000000\n",
            "\n",
            "Global minimum for alpha = 0.2, eps = 0.0001, iterations = 25:\n",
            " custom dx: x = -29.99985326823662, y = 40.00000002153021\n",
            " stdlib dx: x = -29.999860373663978, y = 40.000000019495516\n",
            " delta std - custom = 0.0000000020\n",
            "\n",
            "Global minimum for alpha = 0.2, eps = 1e-08, iterations = 29:\n",
            " custom dx: x = -29.999981165929057, y = 40.000000000354724\n",
            " stdlib dx: x = -29.999988271356415, y = 40.00000000013756\n",
            " delta std - custom = 0.0000000002\n"
          ]
        }
      ]
    },
    {
      "cell_type": "markdown",
      "metadata": {
        "id": "Y_qZrgwrr3Dp"
      },
      "source": [
        "**Висновок:** На даній лабораторній роботі ознайомився з методом градієнтного спуску та дослідив результати методу відповідно з різними параметрами alpha, eps та похідної. А також провів спостереження між звичною похідною з eps=10e-11 та стандартною, різниця є незначна. Але при обох однакових eps, то похідна не зміниться. Сама derivative за замовчуванням має dx=1, але якщо ми будемо прописувати такий  eps в нашому методі скінченних різниць, то вийде помилка. "
      ]
    }
  ]
}