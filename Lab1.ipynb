{
  "nbformat": 4,
  "nbformat_minor": 0,
  "metadata": {
    "colab": {
      "name": "Вітаємо в Colaboratory",
      "provenance": [],
      "collapsed_sections": [],
      "include_colab_link": true
    },
    "kernelspec": {
      "display_name": "Python 3",
      "name": "python3"
    }
  },
  "cells": [
    {
      "cell_type": "markdown",
      "metadata": {
        "id": "view-in-github",
        "colab_type": "text"
      },
      "source": [
        "<a href=\"https://colab.research.google.com/github/HIDAN122/HIDAN122/blob/main/Lab1.ipynb\" target=\"_parent\"><img src=\"https://colab.research.google.com/assets/colab-badge.svg\" alt=\"Open In Colab\"/></a>"
      ]
    },
    {
      "cell_type": "code",
      "metadata": {
        "colab": {
          "base_uri": "https://localhost:8080/",
          "height": 265
        },
        "id": "AnniorkAeeWY",
        "outputId": "3765d1af-ec5c-4613-c685-7551230e2ca2"
      },
      "source": [
        "from sklearn.datasets import make_blobs\n",
        "import numpy as np\n",
        "from matplotlib import pyplot as plt\n",
        "\n",
        "center1 = (30, 70)\n",
        "center2 = (60, 20)\n",
        "distance = 10\n",
        "\n",
        "\n",
        "x1 = np.random.uniform(center1[0], center1[0] + distance, size=(100,))\n",
        "y1 = np.random.normal(center1[1], distance, size=(100,)) \n",
        "\n",
        "x2 = np.random.uniform(center2[0], center2[0] + distance, size=(100,))\n",
        "y2 = np.random.normal(center2[1], distance, size=(100,)) \n",
        "\n",
        "plt.scatter(x1, y1)\n",
        "plt.scatter(x2, y2)\n",
        "plt.show()"
      ],
      "execution_count": 1,
      "outputs": [
        {
          "output_type": "display_data",
          "data": {
            "image/png": "[encoded data removed]",
            "text/plain": [
              "<Figure size 432x288 with 1 Axes>"
            ]
          },
          "metadata": {
            "needs_background": "light"
          }
        }
      ]
    }
  ]
}