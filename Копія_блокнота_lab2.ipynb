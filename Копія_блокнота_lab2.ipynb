{
  "nbformat": 4,
  "nbformat_minor": 0,
  "metadata": {
    "colab": {
      "name": "Копия_блокнота_sistem_machine_learning2_ipynb_.ipynb",
      "provenance": [],
      "collapsed_sections": [],
      "include_colab_link": true
    },
    "kernelspec": {
      "name": "python3",
      "display_name": "Python 3"
    },
    "language_info": {
      "name": "python"
    }
  },
  "cells": [
    {
      "cell_type": "markdown",
      "metadata": {
        "id": "view-in-github",
        "colab_type": "text"
      },
      "source": [
        "<a href=\"https://colab.research.google.com/github/HIDAN122/HIDAN122/blob/main/%D0%9A%D0%BE%D0%BF%D1%96%D1%8F_%D0%B1%D0%BB%D0%BE%D0%BA%D0%BD%D0%BE%D1%82%D0%B0_lab2.ipynb\" target=\"_parent\"><img src=\"https://colab.research.google.com/assets/colab-badge.svg\" alt=\"Open In Colab\"/></a>"
      ]
    },
    {
      "cell_type": "markdown",
      "metadata": {
        "id": "0YDtE6v0Yq9r"
      },
      "source": [
        "**Лабораторна робота №2**\n",
        "\n",
        "Тема:  “Векторизація даних”\n",
        "\n",
        "Мета:  Дослідити базові методи\n",
        "бібліотеки NumPy та провести аналіз особливостей бібліотеки NumPy на основі\n",
        "реалізованих методів в порівнянні Python vs Python + NumPy.\n"
      ]
    },
    {
      "cell_type": "markdown",
      "metadata": {
        "id": "Ait7ziPeZlDR"
      },
      "source": [
        "Підключення бібліотек"
      ]
    },
    {
      "cell_type": "code",
      "metadata": {
        "id": "wIGbLCBIBO_l"
      },
      "source": [
        "import random\n",
        "import unittest\n",
        "import numpy as np\n",
        "import datetime"
      ],
      "execution_count": null,
      "outputs": []
    },
    {
      "cell_type": "markdown",
      "metadata": {
        "id": "OAx-syrvZr_q"
      },
      "source": [
        "Задаю значення та виконую ініціалізацію випадковими даними по 0 та 1\n"
      ]
    },
    {
      "cell_type": "code",
      "metadata": {
        "id": "6KSWd4jdJxTD"
      },
      "source": [
        "w, h = 7, 7\n",
        "N = [[random.uniform(0, 1) for x in range(w)] for y in range(h)]\n",
        "M = [[random.uniform(0, 1) for x in range(w)] for y in range(h)]\n",
        "V1 = [random.uniform(0, 1) for x in range(w)]\n",
        "V2 = [random.uniform(0, 1) for x in range(w)]"
      ],
      "execution_count": null,
      "outputs": []
    },
    {
      "cell_type": "markdown",
      "metadata": {
        "id": "0j-Cj4IneOQK"
      },
      "source": [
        "Реалізував\n",
        " метод множення двох матриць (N x M)"
      ]
    },
    {
      "cell_type": "code",
      "metadata": {
        "id": "wE-EUAm9KAmE"
      },
      "source": [
        "# multiplying\n",
        "def py_matrixByMatrix(matrixA, matrixB):\n",
        "    return [[sum(matrixA[i][k] * matrixB[k][j] \n",
        "        for k in range(len(matrixB))) \n",
        "            for j in range(len(matrixB[0]))] \n",
        "                for i in range(len(matrixA))]"
      ],
      "execution_count": null,
      "outputs": []
    },
    {
      "cell_type": "markdown",
      "metadata": {
        "id": "XjZbqLomed3t"
      },
      "source": [
        "Реалізував метод множення матриці (N x M) на вектор (N)\n"
      ]
    },
    {
      "cell_type": "code",
      "metadata": {
        "id": "CLsTF6fXKHTS"
      },
      "source": [
        "def py_matrixByVector(matrixA, vector):\n",
        "    assert len(matrixA[0]) == len(vector)\n",
        "    result = []\n",
        "    for i in range(len(matrixA[0])):\n",
        "        total = 0\n",
        "        for j in range(len(vector)):\n",
        "            total += matrixA[j][i] * vector[j]\n",
        "        result.append(total)\n",
        "    return result"
      ],
      "execution_count": null,
      "outputs": []
    },
    {
      "cell_type": "markdown",
      "metadata": {
        "id": "fRgDv3wie5Wy"
      },
      "source": [
        "Реалізував метод множення вектора (N) на матрицю (N x M)"
      ]
    },
    {
      "cell_type": "code",
      "metadata": {
        "id": "A0PuGN39zQe6"
      },
      "source": [
        "def py_VectorByMatrix(matrixA, vector):\n",
        "    assert len(vector) == len(matrixA[0])\n",
        "    result = []\n",
        "    for i in range(len(matrixA[0])):\n",
        "        total = 0\n",
        "        for j in range(len(vector)):\n",
        "            total += vector[j] * matrixA[j][i] \n",
        "        result.append(total)\n",
        "    return result"
      ],
      "execution_count": null,
      "outputs": []
    },
    {
      "cell_type": "markdown",
      "metadata": {
        "id": "tBVk_xJufLXL"
      },
      "source": [
        "Реалізував метод множення двох векторів (N)"
      ]
    },
    {
      "cell_type": "code",
      "metadata": {
        "id": "1qnaRXxJKJFT"
      },
      "source": [
        "# vector by  vector\n",
        "def py_vectorByVector(vectorA, vectorB):\n",
        "    assert len(vectorA) == len(vectorB)\n",
        "    return sum(vectorA[i] * vectorB[i] for i in range(len(vectorA)))"
      ],
      "execution_count": null,
      "outputs": []
    },
    {
      "cell_type": "markdown",
      "metadata": {
        "id": "o_sFpiC1fnaj"
      },
      "source": [
        "Написав Unit tests для методів"
      ]
    },
    {
      "cell_type": "code",
      "metadata": {
        "colab": {
          "base_uri": "https://localhost:8080/"
        },
        "id": "Z7xYYYDcz4M0",
        "outputId": "75a366f7-1f14-4ac4-f020-6a96a94e85bd"
      },
      "source": [
        "class CalcTest(unittest.TestCase):\n",
        "    def test_add(self):\n",
        "      self.assertEqual(matrixByMatrix(matrixA, matrixB), matrixA[i][k] * matrixB[k][j])\n",
        "      self.assertEqual(matrixByVector(matrixA, vector), matrixA[j][i] * vector[j])\n",
        "      self.assertEqual(VectorByMatrix(matrixA, vector), vector[j] * matrixA[j][i])\n",
        "      self.assertEqual(vectorByVector(vectorA, vectorB), vectorA[i] * vectorB[i])\n",
        "if __name__ == '__main__':\n",
        "    unittest.main(exit=False)"
      ],
      "execution_count": null,
      "outputs": [
        {
          "output_type": "stream",
          "name": "stderr",
          "text": [
            "E\n",
            "======================================================================\n",
            "ERROR: /root/ (unittest.loader._FailedTest)\n",
            "----------------------------------------------------------------------\n",
            "AttributeError: module '__main__' has no attribute '/root/'\n",
            "\n",
            "----------------------------------------------------------------------\n",
            "Ran 1 test in 0.002s\n",
            "\n",
            "FAILED (errors=1)\n"
          ]
        }
      ]
    },
    {
      "cell_type": "markdown",
      "metadata": {
        "id": "7Zb0Pp2of2ix"
      },
      "source": [
        "Провів аналіз по часу виконання методу"
      ]
    },
    {
      "cell_type": "code",
      "metadata": {
        "id": "s4aVCKvRKLqg"
      },
      "source": [
        "def calcDiff(methodName: str, pyDelegate, npDelegate, N, M):\n",
        "    pyStart = datetime.datetime.now()\n",
        "    pyRes = pyDelegate(N, M)\n",
        "    pyEnd = datetime.datetime.now()\n",
        "    pyTime = (pyEnd - pyStart).total_seconds() * 1000\n",
        "\n",
        "    nN = np.array(N)\n",
        "    nM = np.array(M)\n",
        "    npStart = datetime.datetime.now()\n",
        "    npRes = npDelegate(nN, nM)\n",
        "    npEnd = datetime.datetime.now()\n",
        "    npTime = (npEnd - npStart).total_seconds() * 1000\n",
        "\n",
        "    print(f\"{methodName}: python time: {pyTime:0.4f}, numpy time: {npTime:0.4f}, diff(py - numpy): {pyTime-npTime:0.4f}\")"
      ],
      "execution_count": null,
      "outputs": []
    },
    {
      "cell_type": "markdown",
      "metadata": {
        "id": "LKRU9Y9igWPU"
      },
      "source": [
        "Вивід даних"
      ]
    },
    {
      "cell_type": "code",
      "metadata": {
        "colab": {
          "base_uri": "https://localhost:8080/"
        },
        "id": "ocjQ9l6fKQFk",
        "outputId": "4704d6ef-0a61-4a7a-f319-d1c6b2c384e7"
      },
      "source": [
        "print(f\"width: {w}\")\n",
        "print(f\"height: {h}\")\n",
        "calcDiff(methodName='matrix by matrix', pyDelegate=py_matrixByMatrix, npDelegate=np.matmul, N=N, M=M)\n",
        "calcDiff(methodName='matrix by vector', pyDelegate=py_matrixByVector, npDelegate=np.dot, N=N, M=V1)\n",
        "calcDiff(methodName='vector by matrix', pyDelegate=py_matrixByVector, npDelegate=np.dot, N=N, M=V1)\n",
        "calcDiff(methodName='vector by vector', pyDelegate=py_vectorByVector, npDelegate=np.dot, N=V1, M=V2)"
      ],
      "execution_count": null,
      "outputs": [
        {
          "output_type": "stream",
          "name": "stdout",
          "text": [
            "width: 7\n",
            "height: 7\n",
            "matrix by matrix: python time: 0.1290, numpy time: 0.1160, diff(py - numpy): 0.0130\n",
            "matrix by vector: python time: 0.0190, numpy time: 0.0230, diff(py - numpy): -0.0040\n",
            "vector by matrix: python time: 0.0220, numpy time: 0.0160, diff(py - numpy): 0.0060\n",
            "vector by vector: python time: 0.0090, numpy time: 0.0170, diff(py - numpy): -0.0080\n"
          ]
        }
      ]
    },
    {
      "cell_type": "code",
      "metadata": {
        "id": "NJtxT_13pxP6"
      },
      "source": [
        ""
      ],
      "execution_count": null,
      "outputs": []
    },
    {
      "cell_type": "markdown",
      "metadata": {
        "id": "Vk7zISqzYkBs"
      },
      "source": [
        "Висновок: На даній лабораторній роботі дослідив базові методи бібліотеки NumPy. До прикладу, маніпуляція матрицею великих даних, сортування, вибір,лінійна алгебра, дискретні перетворення Фур'є, базові статичні операції і тд..\n",
        "\n",
        "З використанням бібліотеки NumPy, швидко зміг перемножити матриці/вектори.\n",
        "\n",
        "Використав Unit tests для цих методів, щоб перевірити код, а також перевірити логіку коду.\n",
        "\n",
        "Якщо провести аналіз особливостей бібліотеки NumPy на основі реалізованих методів в порівнянні Python vs Python + NumPy, то можна зазначити, що NumPy спрощує складні математичні і інші типи операцій з великою кількістю даних. Як правило, такі операції виконуються більш ефективно і з меншою кількістю коду, ніж це можливо при використанні вбудованих послідовностей Python."
      ]
    }
  ]
}