{
  "nbformat": 4,
  "nbformat_minor": 0,
  "metadata": {
    "colab": {
      "name": "lab_7.ipynb",
      "provenance": [],
      "collapsed_sections": [],
      "include_colab_link": true
    },
    "kernelspec": {
      "name": "python3",
      "display_name": "Python 3"
    },
    "language_info": {
      "name": "python"
    }
  },
  "cells": [
    {
      "cell_type": "markdown",
      "metadata": {
        "id": "view-in-github",
        "colab_type": "text"
      },
      "source": [
        "<a href=\"https://colab.research.google.com/github/HIDAN122/HIDAN122/blob/main/lab_7.ipynb\" target=\"_parent\"><img src=\"https://colab.research.google.com/assets/colab-badge.svg\" alt=\"Open In Colab\"/></a>"
      ]
    },
    {
      "cell_type": "markdown",
      "metadata": {
        "id": "Uqds2w-hropl"
      },
      "source": [
        "**Лабораторна робота №7**\n",
        "\n",
        "**Тема:** “Реалізація регресійної моделі на основі нейронної мережі”\n",
        "\n",
        "**Мета:** Нехай ми маємо набір даних вартості будинків. Нам потрібно реалізувати модель\n",
        "для передбачення вартості будинку в залежності від характеристик будинку. Модель\n",
        "має бути реалізована з використанням Keras та TensorFlow."
      ]
    },
    {
      "cell_type": "markdown",
      "metadata": {
        "id": "YEq3dRVzuxFG"
      },
      "source": [
        "Імпортую бібліотеки"
      ]
    },
    {
      "cell_type": "code",
      "metadata": {
        "id": "obCTlQcurchQ"
      },
      "source": [
        "import sklearn\n",
        "import numpy as np\n",
        "import sklearn.datasets as datasets\n",
        "from sklearn.model_selection import train_test_split\n",
        "from sklearn.linear_model import LinearRegression\n",
        "from sklearn.pipeline import Pipeline\n",
        "from sklearn.linear_model import Ridge\n",
        "from sklearn.preprocessing import StandardScaler, PolynomialFeatures\n",
        "from sklearn.metrics import mean_squared_error\n",
        "import math"
      ],
      "execution_count": null,
      "outputs": []
    },
    {
      "cell_type": "markdown",
      "metadata": {
        "id": "PymRlEJlu-6c"
      },
      "source": [
        "Отримання набору даних"
      ]
    },
    {
      "cell_type": "code",
      "metadata": {
        "id": "jQZpLgw3vC04"
      },
      "source": [
        "houses = datasets.fetch_california_housing()"
      ],
      "execution_count": null,
      "outputs": []
    },
    {
      "cell_type": "markdown",
      "metadata": {
        "id": "H7tptwbuvRNX"
      },
      "source": [
        "Перемішуємо дані перед тим, як розділити"
      ]
    },
    {
      "cell_type": "code",
      "metadata": {
        "colab": {
          "base_uri": "https://localhost:8080/"
        },
        "id": "0gGr6sVdvXtl",
        "outputId": "76a11f75-e59c-4a59-d919-eb3f9a1f4b73"
      },
      "source": [
        "houses.data.shape"
      ],
      "execution_count": null,
      "outputs": [
        {
          "output_type": "execute_result",
          "data": {
            "text/plain": [
              "(20640, 8)"
            ]
          },
          "metadata": {},
          "execution_count": 4
        }
      ]
    },
    {
      "cell_type": "code",
      "metadata": {
        "colab": {
          "base_uri": "https://localhost:8080/"
        },
        "id": "AUXEj5pjvrnc",
        "outputId": "3981470f-7da7-43ec-f74d-849460164ec5"
      },
      "source": [
        "houses.target.shape"
      ],
      "execution_count": null,
      "outputs": [
        {
          "output_type": "execute_result",
          "data": {
            "text/plain": [
              "(20640,)"
            ]
          },
          "metadata": {},
          "execution_count": 5
        }
      ]
    },
    {
      "cell_type": "markdown",
      "metadata": {
        "id": "lGFVFDLQvy21"
      },
      "source": [
        "Зміщую набір даних, щоб уникнути розбіжностей між тренувальним та тестовим набором даних"
      ]
    },
    {
      "cell_type": "code",
      "metadata": {
        "id": "T8ss1ax9vt_K"
      },
      "source": [
        "permutation = np.random.permutation(houses.data.shape[0])\n",
        "houses.data[permutation] = houses.data\n",
        "houses.target[permutation] = houses.target"
      ],
      "execution_count": null,
      "outputs": []
    },
    {
      "cell_type": "markdown",
      "metadata": {
        "id": "VIRVR3bPwEL9"
      },
      "source": [
        "Розділяємо набір даних"
      ]
    },
    {
      "cell_type": "code",
      "metadata": {
        "id": "6N5sKqSuwI2L"
      },
      "source": [
        "train_inputs, rest_inputs, train_labels, rest_labels = train_test_split(houses.data, houses.target, test_size = 0.30)\n",
        "valid_inputs, tests_inputs, valid_labels, tests_labels = train_test_split(rest_inputs, rest_labels, test_size = 0.5)"
      ],
      "execution_count": null,
      "outputs": []
    },
    {
      "cell_type": "markdown",
      "metadata": {
        "id": "N9E5iWEhwQtP"
      },
      "source": [
        "Лінйна регресія\n",
        "\n",
        "медіана та стандартне відхилення набору даних"
      ]
    },
    {
      "cell_type": "code",
      "metadata": {
        "colab": {
          "base_uri": "https://localhost:8080/"
        },
        "id": "Fj9weryWwhfp",
        "outputId": "8cf1e8d1-f29b-49dd-e361-cb9f10ab8e87"
      },
      "source": [
        "np.mean(train_inputs[:, 0]), np.std(train_inputs[:, 0])"
      ],
      "execution_count": null,
      "outputs": [
        {
          "output_type": "execute_result",
          "data": {
            "text/plain": [
              "(3.8809336240310084, 1.9076150735956234)"
            ]
          },
          "metadata": {},
          "execution_count": 7
        }
      ]
    },
    {
      "cell_type": "markdown",
      "metadata": {
        "id": "aXxZklSmwi7S"
      },
      "source": [
        "характеристика даного набору даних\n"
      ]
    },
    {
      "cell_type": "code",
      "metadata": {
        "colab": {
          "base_uri": "https://localhost:8080/"
        },
        "id": "1vN9t2oVxn6x",
        "outputId": "19f840df-5c28-43cd-b3f0-7c214c9f0b18"
      },
      "source": [
        "houses.feature_names"
      ],
      "execution_count": null,
      "outputs": [
        {
          "output_type": "execute_result",
          "data": {
            "text/plain": [
              "['MedInc',\n",
              " 'HouseAge',\n",
              " 'AveRooms',\n",
              " 'AveBedrms',\n",
              " 'Population',\n",
              " 'AveOccup',\n",
              " 'Latitude',\n",
              " 'Longitude']"
            ]
          },
          "metadata": {},
          "execution_count": 8
        }
      ]
    },
    {
      "cell_type": "markdown",
      "metadata": {
        "id": "cBFaw8bCx7a1"
      },
      "source": [
        "Модель для передбачення вартості будинку\n",
        "\n",
        "regressor - підгонка даних до рядка"
      ]
    },
    {
      "cell_type": "code",
      "metadata": {
        "id": "LmzaZlAzyDlS"
      },
      "source": [
        "model = Pipeline([\n",
        "    ('normalizer', StandardScaler()),\n",
        "    ('poly-feat', PolynomialFeatures(degree=2)),\n",
        "    ('regressor', Ridge())\n",
        "]).fit(train_inputs, train_labels)"
      ],
      "execution_count": null,
      "outputs": []
    },
    {
      "cell_type": "markdown",
      "metadata": {
        "id": "QONhIKhZyYgx"
      },
      "source": [
        "Розраховуємо похибку"
      ]
    },
    {
      "cell_type": "code",
      "metadata": {
        "colab": {
          "base_uri": "https://localhost:8080/"
        },
        "id": "x9QW0X8yyvhW",
        "outputId": "dc8be75d-ca8a-43b4-ad8f-dd768e13b04f"
      },
      "source": [
        "squared_error = mean_squared_error(tests_labels, \n",
        "                                   model.predict(tests_inputs))\n",
        "squared_error"
      ],
      "execution_count": null,
      "outputs": [
        {
          "output_type": "execute_result",
          "data": {
            "text/plain": [
              "0.4603945948361715"
            ]
          },
          "metadata": {},
          "execution_count": 11
        }
      ]
    },
    {
      "cell_type": "markdown",
      "metadata": {
        "id": "GdDzxufmyyMS"
      },
      "source": [
        "Перетворюю похибку в кількість в доларах "
      ]
    },
    {
      "cell_type": "code",
      "metadata": {
        "colab": {
          "base_uri": "https://localhost:8080/"
        },
        "id": "IPYNCqx-y9fA",
        "outputId": "772502b4-9043-4390-fc90-c6f6cacc31ae"
      },
      "source": [
        "int(math.exp(squared_error) * 1000)"
      ],
      "execution_count": null,
      "outputs": [
        {
          "output_type": "execute_result",
          "data": {
            "text/plain": [
              "1584"
            ]
          },
          "metadata": {},
          "execution_count": 12
        }
      ]
    },
    {
      "cell_type": "markdown",
      "metadata": {
        "id": "y0YUxQ9QzDpF"
      },
      "source": [
        "**Висновок:** Отже, середня помилка між фактичними і прогнозованими значеннями становить 1584 долари. А на даній лабораторній роботі реалізував модель для передбачення вартості будинку в залежності від характеристик будинку"
      ]
    }
  ]
}