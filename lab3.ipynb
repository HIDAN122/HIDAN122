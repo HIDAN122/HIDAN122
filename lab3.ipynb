{
  "nbformat": 4,
  "nbformat_minor": 0,
  "metadata": {
    "colab": {
      "name": "lab3.ipynb",
      "provenance": [],
      "collapsed_sections": [],
      "include_colab_link": true
    },
    "kernelspec": {
      "name": "python3",
      "display_name": "Python 3"
    },
    "language_info": {
      "name": "python"
    }
  },
  "cells": [
    {
      "cell_type": "markdown",
      "metadata": {
        "id": "view-in-github",
        "colab_type": "text"
      },
      "source": [
        "<a href=\"https://colab.research.google.com/github/HIDAN122/HIDAN122/blob/main/lab3.ipynb\" target=\"_parent\"><img src=\"https://colab.research.google.com/assets/colab-badge.svg\" alt=\"Open In Colab\"/></a>"
      ]
    },
    {
      "cell_type": "markdown",
      "metadata": {
        "id": "Vc51Pm-F6q7M"
      },
      "source": [
        "**Лабораторна робота №3**\n",
        "**Тема:** “Аналіз даних з використанням бібліотеки Pandas та Matplotlib”\n",
        "**Мета:** Нехай ми маємо набори даних employees, nba. Виконати попередню обробку даних,\n",
        "застосувати агрегацію, групування та фільтрацію даних. Реалізувати візуалізацію для\n",
        "валідованих та конвертованих даних. Дослідити типи об’єднання даних left join, inner\n",
        "join, right join, full outer join.\n"
      ]
    },
    {
      "cell_type": "code",
      "metadata": {
        "id": "kMehef2VrjvP"
      },
      "source": [
        "import pandas as pd\n",
        "import numpy as np\n",
        "import matplotlib.pyplot as plt\n",
        "import uuid"
      ],
      "execution_count": null,
      "outputs": []
    },
    {
      "cell_type": "code",
      "metadata": {
        "id": "wj6ag36irz1S"
      },
      "source": [
        "df = pd.read_csv('employees.csv', sep=',')"
      ],
      "execution_count": null,
      "outputs": []
    },
    {
      "cell_type": "markdown",
      "metadata": {
        "id": "Ad3pNiYSv8wo"
      },
      "source": [
        "Зчитую дані 'employees.csv'"
      ]
    },
    {
      "cell_type": "code",
      "metadata": {
        "colab": {
          "base_uri": "https://localhost:8080/",
          "height": 423
        },
        "id": "-GpqZZoFsTpl",
        "outputId": "9c39d33a-055f-4bc6-cd76-3d5fc3170229"
      },
      "source": [
        "df = df.replace('', np.nan)\n",
        "df[df.isna().any(axis='columns')]"
      ],
      "execution_count": null,
      "outputs": [
        {
          "output_type": "execute_result",
          "data": {
            "text/html": [
              "<div>\n",
              "<style scoped>\n",
              "    .dataframe tbody tr th:only-of-type {\n",
              "        vertical-align: middle;\n",
              "    }\n",
              "\n",
              "    .dataframe tbody tr th {\n",
              "        vertical-align: top;\n",
              "    }\n",
              "\n",
              "    .dataframe thead th {\n",
              "        text-align: right;\n",
              "    }\n",
              "</style>\n",
              "<table border=\"1\" class=\"dataframe\">\n",
              "  <thead>\n",
              "    <tr style=\"text-align: right;\">\n",
              "      <th></th>\n",
              "      <th>First Name</th>\n",
              "      <th>Gender</th>\n",
              "      <th>Start Date</th>\n",
              "      <th>Last Login Time</th>\n",
              "      <th>Salary</th>\n",
              "      <th>Bonus %</th>\n",
              "      <th>Senior Management</th>\n",
              "      <th>Team</th>\n",
              "    </tr>\n",
              "  </thead>\n",
              "  <tbody>\n",
              "    <tr>\n",
              "      <th>1</th>\n",
              "      <td>Thomas</td>\n",
              "      <td>Male</td>\n",
              "      <td>3/31/1996</td>\n",
              "      <td>6:53 AM</td>\n",
              "      <td>61933</td>\n",
              "      <td>4.170</td>\n",
              "      <td>True</td>\n",
              "      <td>NaN</td>\n",
              "    </tr>\n",
              "    <tr>\n",
              "      <th>7</th>\n",
              "      <td>NaN</td>\n",
              "      <td>Female</td>\n",
              "      <td>7/20/2015</td>\n",
              "      <td>10:43 AM</td>\n",
              "      <td>45906</td>\n",
              "      <td>11.598</td>\n",
              "      <td>NaN</td>\n",
              "      <td>Finance</td>\n",
              "    </tr>\n",
              "    <tr>\n",
              "      <th>10</th>\n",
              "      <td>Louise</td>\n",
              "      <td>Female</td>\n",
              "      <td>8/12/1980</td>\n",
              "      <td>9:01 AM</td>\n",
              "      <td>63241</td>\n",
              "      <td>15.132</td>\n",
              "      <td>True</td>\n",
              "      <td>NaN</td>\n",
              "    </tr>\n",
              "    <tr>\n",
              "      <th>20</th>\n",
              "      <td>Lois</td>\n",
              "      <td>NaN</td>\n",
              "      <td>4/22/1995</td>\n",
              "      <td>7:18 PM</td>\n",
              "      <td>64714</td>\n",
              "      <td>4.934</td>\n",
              "      <td>True</td>\n",
              "      <td>Legal</td>\n",
              "    </tr>\n",
              "    <tr>\n",
              "      <th>22</th>\n",
              "      <td>Joshua</td>\n",
              "      <td>NaN</td>\n",
              "      <td>3/8/2012</td>\n",
              "      <td>1:58 AM</td>\n",
              "      <td>90816</td>\n",
              "      <td>18.816</td>\n",
              "      <td>True</td>\n",
              "      <td>Client Services</td>\n",
              "    </tr>\n",
              "    <tr>\n",
              "      <th>...</th>\n",
              "      <td>...</td>\n",
              "      <td>...</td>\n",
              "      <td>...</td>\n",
              "      <td>...</td>\n",
              "      <td>...</td>\n",
              "      <td>...</td>\n",
              "      <td>...</td>\n",
              "      <td>...</td>\n",
              "    </tr>\n",
              "    <tr>\n",
              "      <th>961</th>\n",
              "      <td>Antonio</td>\n",
              "      <td>NaN</td>\n",
              "      <td>6/18/1989</td>\n",
              "      <td>9:37 PM</td>\n",
              "      <td>103050</td>\n",
              "      <td>3.050</td>\n",
              "      <td>False</td>\n",
              "      <td>Legal</td>\n",
              "    </tr>\n",
              "    <tr>\n",
              "      <th>972</th>\n",
              "      <td>Victor</td>\n",
              "      <td>NaN</td>\n",
              "      <td>7/28/2006</td>\n",
              "      <td>2:49 PM</td>\n",
              "      <td>76381</td>\n",
              "      <td>11.159</td>\n",
              "      <td>True</td>\n",
              "      <td>Sales</td>\n",
              "    </tr>\n",
              "    <tr>\n",
              "      <th>985</th>\n",
              "      <td>Stephen</td>\n",
              "      <td>NaN</td>\n",
              "      <td>7/10/1983</td>\n",
              "      <td>8:10 PM</td>\n",
              "      <td>85668</td>\n",
              "      <td>1.909</td>\n",
              "      <td>False</td>\n",
              "      <td>Legal</td>\n",
              "    </tr>\n",
              "    <tr>\n",
              "      <th>989</th>\n",
              "      <td>Justin</td>\n",
              "      <td>NaN</td>\n",
              "      <td>2/10/1991</td>\n",
              "      <td>4:58 PM</td>\n",
              "      <td>38344</td>\n",
              "      <td>3.794</td>\n",
              "      <td>False</td>\n",
              "      <td>Legal</td>\n",
              "    </tr>\n",
              "    <tr>\n",
              "      <th>995</th>\n",
              "      <td>Henry</td>\n",
              "      <td>NaN</td>\n",
              "      <td>11/23/2014</td>\n",
              "      <td>6:09 AM</td>\n",
              "      <td>132483</td>\n",
              "      <td>16.655</td>\n",
              "      <td>False</td>\n",
              "      <td>Distribution</td>\n",
              "    </tr>\n",
              "  </tbody>\n",
              "</table>\n",
              "<p>236 rows × 8 columns</p>\n",
              "</div>"
            ],
            "text/plain": [
              "    First Name  Gender  Start Date  ... Bonus %  Senior Management             Team\n",
              "1       Thomas    Male   3/31/1996  ...   4.170               True              NaN\n",
              "7          NaN  Female   7/20/2015  ...  11.598                NaN          Finance\n",
              "10      Louise  Female   8/12/1980  ...  15.132               True              NaN\n",
              "20        Lois     NaN   4/22/1995  ...   4.934               True            Legal\n",
              "22      Joshua     NaN    3/8/2012  ...  18.816               True  Client Services\n",
              "..         ...     ...         ...  ...     ...                ...              ...\n",
              "961    Antonio     NaN   6/18/1989  ...   3.050              False            Legal\n",
              "972     Victor     NaN   7/28/2006  ...  11.159               True            Sales\n",
              "985    Stephen     NaN   7/10/1983  ...   1.909              False            Legal\n",
              "989     Justin     NaN   2/10/1991  ...   3.794              False            Legal\n",
              "995      Henry     NaN  11/23/2014  ...  16.655              False     Distribution\n",
              "\n",
              "[236 rows x 8 columns]"
            ]
          },
          "metadata": {},
          "execution_count": 3
        }
      ]
    },
    {
      "cell_type": "markdown",
      "metadata": {
        "id": "JTSrv6XOwTFq"
      },
      "source": [
        "Замість пропусків вставляю naN, а також цим виводжу рядки з недопустимими значеннями"
      ]
    },
    {
      "cell_type": "code",
      "metadata": {
        "colab": {
          "base_uri": "https://localhost:8080/",
          "height": 423
        },
        "id": "fWnClJX9skvp",
        "outputId": "960ff740-52e5-499c-c7c4-d30244b7ee95"
      },
      "source": [
        "df = df.dropna()\n",
        "df"
      ],
      "execution_count": null,
      "outputs": [
        {
          "output_type": "execute_result",
          "data": {
            "text/html": [
              "<div>\n",
              "<style scoped>\n",
              "    .dataframe tbody tr th:only-of-type {\n",
              "        vertical-align: middle;\n",
              "    }\n",
              "\n",
              "    .dataframe tbody tr th {\n",
              "        vertical-align: top;\n",
              "    }\n",
              "\n",
              "    .dataframe thead th {\n",
              "        text-align: right;\n",
              "    }\n",
              "</style>\n",
              "<table border=\"1\" class=\"dataframe\">\n",
              "  <thead>\n",
              "    <tr style=\"text-align: right;\">\n",
              "      <th></th>\n",
              "      <th>First Name</th>\n",
              "      <th>Gender</th>\n",
              "      <th>Start Date</th>\n",
              "      <th>Last Login Time</th>\n",
              "      <th>Salary</th>\n",
              "      <th>Bonus %</th>\n",
              "      <th>Senior Management</th>\n",
              "      <th>Team</th>\n",
              "    </tr>\n",
              "  </thead>\n",
              "  <tbody>\n",
              "    <tr>\n",
              "      <th>0</th>\n",
              "      <td>Douglas</td>\n",
              "      <td>Male</td>\n",
              "      <td>8/6/1993</td>\n",
              "      <td>12:42 PM</td>\n",
              "      <td>97308</td>\n",
              "      <td>6.945</td>\n",
              "      <td>True</td>\n",
              "      <td>Marketing</td>\n",
              "    </tr>\n",
              "    <tr>\n",
              "      <th>2</th>\n",
              "      <td>Maria</td>\n",
              "      <td>Female</td>\n",
              "      <td>4/23/1993</td>\n",
              "      <td>11:17 AM</td>\n",
              "      <td>130590</td>\n",
              "      <td>11.858</td>\n",
              "      <td>False</td>\n",
              "      <td>Finance</td>\n",
              "    </tr>\n",
              "    <tr>\n",
              "      <th>3</th>\n",
              "      <td>Jerry</td>\n",
              "      <td>Male</td>\n",
              "      <td>3/4/2005</td>\n",
              "      <td>1:00 PM</td>\n",
              "      <td>138705</td>\n",
              "      <td>9.340</td>\n",
              "      <td>True</td>\n",
              "      <td>Finance</td>\n",
              "    </tr>\n",
              "    <tr>\n",
              "      <th>4</th>\n",
              "      <td>Larry</td>\n",
              "      <td>Male</td>\n",
              "      <td>1/24/1998</td>\n",
              "      <td>4:47 PM</td>\n",
              "      <td>101004</td>\n",
              "      <td>1.389</td>\n",
              "      <td>True</td>\n",
              "      <td>Client Services</td>\n",
              "    </tr>\n",
              "    <tr>\n",
              "      <th>5</th>\n",
              "      <td>Dennis</td>\n",
              "      <td>Male</td>\n",
              "      <td>4/18/1987</td>\n",
              "      <td>1:35 AM</td>\n",
              "      <td>115163</td>\n",
              "      <td>10.125</td>\n",
              "      <td>False</td>\n",
              "      <td>Legal</td>\n",
              "    </tr>\n",
              "    <tr>\n",
              "      <th>...</th>\n",
              "      <td>...</td>\n",
              "      <td>...</td>\n",
              "      <td>...</td>\n",
              "      <td>...</td>\n",
              "      <td>...</td>\n",
              "      <td>...</td>\n",
              "      <td>...</td>\n",
              "      <td>...</td>\n",
              "    </tr>\n",
              "    <tr>\n",
              "      <th>994</th>\n",
              "      <td>George</td>\n",
              "      <td>Male</td>\n",
              "      <td>6/21/2013</td>\n",
              "      <td>5:47 PM</td>\n",
              "      <td>98874</td>\n",
              "      <td>4.479</td>\n",
              "      <td>True</td>\n",
              "      <td>Marketing</td>\n",
              "    </tr>\n",
              "    <tr>\n",
              "      <th>996</th>\n",
              "      <td>Phillip</td>\n",
              "      <td>Male</td>\n",
              "      <td>1/31/1984</td>\n",
              "      <td>6:30 AM</td>\n",
              "      <td>42392</td>\n",
              "      <td>19.675</td>\n",
              "      <td>False</td>\n",
              "      <td>Finance</td>\n",
              "    </tr>\n",
              "    <tr>\n",
              "      <th>997</th>\n",
              "      <td>Russell</td>\n",
              "      <td>Male</td>\n",
              "      <td>5/20/2013</td>\n",
              "      <td>12:39 PM</td>\n",
              "      <td>96914</td>\n",
              "      <td>1.421</td>\n",
              "      <td>False</td>\n",
              "      <td>Product</td>\n",
              "    </tr>\n",
              "    <tr>\n",
              "      <th>998</th>\n",
              "      <td>Larry</td>\n",
              "      <td>Male</td>\n",
              "      <td>4/20/2013</td>\n",
              "      <td>4:45 PM</td>\n",
              "      <td>60500</td>\n",
              "      <td>11.985</td>\n",
              "      <td>False</td>\n",
              "      <td>Business Development</td>\n",
              "    </tr>\n",
              "    <tr>\n",
              "      <th>999</th>\n",
              "      <td>Albert</td>\n",
              "      <td>Male</td>\n",
              "      <td>5/15/2012</td>\n",
              "      <td>6:24 PM</td>\n",
              "      <td>129949</td>\n",
              "      <td>10.169</td>\n",
              "      <td>True</td>\n",
              "      <td>Sales</td>\n",
              "    </tr>\n",
              "  </tbody>\n",
              "</table>\n",
              "<p>764 rows × 8 columns</p>\n",
              "</div>"
            ],
            "text/plain": [
              "    First Name  Gender  ... Senior Management                  Team\n",
              "0      Douglas    Male  ...              True             Marketing\n",
              "2        Maria  Female  ...             False               Finance\n",
              "3        Jerry    Male  ...              True               Finance\n",
              "4        Larry    Male  ...              True       Client Services\n",
              "5       Dennis    Male  ...             False                 Legal\n",
              "..         ...     ...  ...               ...                   ...\n",
              "994     George    Male  ...              True             Marketing\n",
              "996    Phillip    Male  ...             False               Finance\n",
              "997    Russell    Male  ...             False               Product\n",
              "998      Larry    Male  ...             False  Business Development\n",
              "999     Albert    Male  ...              True                 Sales\n",
              "\n",
              "[764 rows x 8 columns]"
            ]
          },
          "metadata": {},
          "execution_count": 4
        }
      ]
    },
    {
      "cell_type": "markdown",
      "metadata": {
        "id": "DlXXaXOfw4N3"
      },
      "source": [
        "Видаляю рядки, які є недопустимі"
      ]
    },
    {
      "cell_type": "code",
      "metadata": {
        "colab": {
          "base_uri": "https://localhost:8080/",
          "height": 300
        },
        "id": "GVWiOG4ks82C",
        "outputId": "796aaf85-82ef-49ae-d2a7-e4d2eef5dc6d"
      },
      "source": [
        "df.describe()"
      ],
      "execution_count": null,
      "outputs": [
        {
          "output_type": "execute_result",
          "data": {
            "text/html": [
              "<div>\n",
              "<style scoped>\n",
              "    .dataframe tbody tr th:only-of-type {\n",
              "        vertical-align: middle;\n",
              "    }\n",
              "\n",
              "    .dataframe tbody tr th {\n",
              "        vertical-align: top;\n",
              "    }\n",
              "\n",
              "    .dataframe thead th {\n",
              "        text-align: right;\n",
              "    }\n",
              "</style>\n",
              "<table border=\"1\" class=\"dataframe\">\n",
              "  <thead>\n",
              "    <tr style=\"text-align: right;\">\n",
              "      <th></th>\n",
              "      <th>Salary</th>\n",
              "      <th>Bonus %</th>\n",
              "    </tr>\n",
              "  </thead>\n",
              "  <tbody>\n",
              "    <tr>\n",
              "      <th>count</th>\n",
              "      <td>764.000000</td>\n",
              "      <td>764.000000</td>\n",
              "    </tr>\n",
              "    <tr>\n",
              "      <th>mean</th>\n",
              "      <td>90433.196335</td>\n",
              "      <td>10.148041</td>\n",
              "    </tr>\n",
              "    <tr>\n",
              "      <th>std</th>\n",
              "      <td>32864.665282</td>\n",
              "      <td>5.608733</td>\n",
              "    </tr>\n",
              "    <tr>\n",
              "      <th>min</th>\n",
              "      <td>35013.000000</td>\n",
              "      <td>1.015000</td>\n",
              "    </tr>\n",
              "    <tr>\n",
              "      <th>25%</th>\n",
              "      <td>62071.750000</td>\n",
              "      <td>5.193250</td>\n",
              "    </tr>\n",
              "    <tr>\n",
              "      <th>50%</th>\n",
              "      <td>90428.000000</td>\n",
              "      <td>9.658500</td>\n",
              "    </tr>\n",
              "    <tr>\n",
              "      <th>75%</th>\n",
              "      <td>118075.250000</td>\n",
              "      <td>14.965000</td>\n",
              "    </tr>\n",
              "    <tr>\n",
              "      <th>max</th>\n",
              "      <td>149908.000000</td>\n",
              "      <td>19.944000</td>\n",
              "    </tr>\n",
              "  </tbody>\n",
              "</table>\n",
              "</div>"
            ],
            "text/plain": [
              "              Salary     Bonus %\n",
              "count     764.000000  764.000000\n",
              "mean    90433.196335   10.148041\n",
              "std     32864.665282    5.608733\n",
              "min     35013.000000    1.015000\n",
              "25%     62071.750000    5.193250\n",
              "50%     90428.000000    9.658500\n",
              "75%    118075.250000   14.965000\n",
              "max    149908.000000   19.944000"
            ]
          },
          "metadata": {},
          "execution_count": 5
        }
      ]
    },
    {
      "cell_type": "markdown",
      "metadata": {
        "id": "2QhX__cexEl3"
      },
      "source": [
        "Зробив статистичний аналіз"
      ]
    },
    {
      "cell_type": "code",
      "metadata": {
        "colab": {
          "base_uri": "https://localhost:8080/"
        },
        "id": "SHcs4EcqtbSH",
        "outputId": "739938bc-66eb-4bb5-ffb1-85831c39071e"
      },
      "source": [
        "df['Salary'].sum()"
      ],
      "execution_count": null,
      "outputs": [
        {
          "output_type": "execute_result",
          "data": {
            "text/plain": [
              "69090962"
            ]
          },
          "metadata": {},
          "execution_count": 6
        }
      ]
    },
    {
      "cell_type": "markdown",
      "metadata": {
        "id": "X_AeL5N_xNz6"
      },
      "source": [
        "Вивів повну суму грошей, які виплачуються за рік"
      ]
    },
    {
      "cell_type": "code",
      "metadata": {
        "colab": {
          "base_uri": "https://localhost:8080/",
          "height": 143
        },
        "id": "c8GRerN45GMs",
        "outputId": "dfbd6e54-4cc6-4cea-ae5b-7dee915f05da"
      },
      "source": [
        "df.groupby(['Gender']).mean()"
      ],
      "execution_count": null,
      "outputs": [
        {
          "output_type": "execute_result",
          "data": {
            "text/html": [
              "<div>\n",
              "<style scoped>\n",
              "    .dataframe tbody tr th:only-of-type {\n",
              "        vertical-align: middle;\n",
              "    }\n",
              "\n",
              "    .dataframe tbody tr th {\n",
              "        vertical-align: top;\n",
              "    }\n",
              "\n",
              "    .dataframe thead th {\n",
              "        text-align: right;\n",
              "    }\n",
              "</style>\n",
              "<table border=\"1\" class=\"dataframe\">\n",
              "  <thead>\n",
              "    <tr style=\"text-align: right;\">\n",
              "      <th></th>\n",
              "      <th>Salary</th>\n",
              "      <th>Bonus %</th>\n",
              "      <th>Experience</th>\n",
              "    </tr>\n",
              "    <tr>\n",
              "      <th>Gender</th>\n",
              "      <th></th>\n",
              "      <th></th>\n",
              "      <th></th>\n",
              "    </tr>\n",
              "  </thead>\n",
              "  <tbody>\n",
              "    <tr>\n",
              "      <th>Female</th>\n",
              "      <td>89736.834606</td>\n",
              "      <td>9.960623</td>\n",
              "      <td>23.191300</td>\n",
              "    </tr>\n",
              "    <tr>\n",
              "      <th>Male</th>\n",
              "      <td>91170.851752</td>\n",
              "      <td>10.346571</td>\n",
              "      <td>22.113156</td>\n",
              "    </tr>\n",
              "  </tbody>\n",
              "</table>\n",
              "</div>"
            ],
            "text/plain": [
              "              Salary    Bonus %  Experience\n",
              "Gender                                     \n",
              "Female  89736.834606   9.960623   23.191300\n",
              "Male    91170.851752  10.346571   22.113156"
            ]
          },
          "metadata": {},
          "execution_count": 20
        }
      ]
    },
    {
      "cell_type": "markdown",
      "metadata": {
        "id": "pqZv05-x5N3X"
      },
      "source": [
        "Середня заробітна плата між жінками та чоловіками"
      ]
    },
    {
      "cell_type": "code",
      "metadata": {
        "colab": {
          "base_uri": "https://localhost:8080/"
        },
        "id": "3XrCjqQ2trPJ",
        "outputId": "c5bb9519-50f4-4178-cb49-3177eceb687c"
      },
      "source": [
        "df.min()"
      ],
      "execution_count": null,
      "outputs": [
        {
          "output_type": "execute_result",
          "data": {
            "text/plain": [
              "First Name                          Aaron\n",
              "Gender                             Female\n",
              "Start Date                       1/1/2014\n",
              "Last Login Time                  10:00 AM\n",
              "Salary                              35013\n",
              "Bonus %                             1.015\n",
              "Senior Management                   False\n",
              "Team                 Business Development\n",
              "dtype: object"
            ]
          },
          "metadata": {},
          "execution_count": 7
        }
      ]
    },
    {
      "cell_type": "markdown",
      "metadata": {
        "id": "pD2LbazExcS1"
      },
      "source": [
        "Мінімальна зарплата"
      ]
    },
    {
      "cell_type": "code",
      "metadata": {
        "colab": {
          "base_uri": "https://localhost:8080/"
        },
        "id": "BJElb4iittYv",
        "outputId": "222dd988-653f-4aeb-f572-c6aeab894877"
      },
      "source": [
        "df.max()"
      ],
      "execution_count": null,
      "outputs": [
        {
          "output_type": "execute_result",
          "data": {
            "text/plain": [
              "First Name             Willie\n",
              "Gender                   Male\n",
              "Start Date           9/9/1998\n",
              "Last Login Time       9:58 PM\n",
              "Salary                 149908\n",
              "Bonus %                19.944\n",
              "Senior Management        True\n",
              "Team                    Sales\n",
              "dtype: object"
            ]
          },
          "metadata": {},
          "execution_count": 8
        }
      ]
    },
    {
      "cell_type": "markdown",
      "metadata": {
        "id": "ey2O4cWmxoDZ"
      },
      "source": [
        "Максимальна зарплата"
      ]
    },
    {
      "cell_type": "code",
      "metadata": {
        "colab": {
          "base_uri": "https://localhost:8080/",
          "height": 423
        },
        "id": "7_rH09JRt5JE",
        "outputId": "1b27f070-ec44-4819-fcac-378a269931ab"
      },
      "source": [
        "from datetime import date\n",
        "def getExperience(row):\n",
        "  dataStr = row['Start Date']\n",
        "  dataList = dataStr.split('/')\n",
        "  data = date(int(dataList[2]), int(dataList[0]), int(dataList[1]))\n",
        "  today = date.today()\n",
        "  delta = today - data\n",
        "  return delta.days/365\n",
        "df['Experience'] = df.apply(getExperience, axis = 1) \n",
        "df"
      ],
      "execution_count": null,
      "outputs": [
        {
          "output_type": "execute_result",
          "data": {
            "text/html": [
              "<div>\n",
              "<style scoped>\n",
              "    .dataframe tbody tr th:only-of-type {\n",
              "        vertical-align: middle;\n",
              "    }\n",
              "\n",
              "    .dataframe tbody tr th {\n",
              "        vertical-align: top;\n",
              "    }\n",
              "\n",
              "    .dataframe thead th {\n",
              "        text-align: right;\n",
              "    }\n",
              "</style>\n",
              "<table border=\"1\" class=\"dataframe\">\n",
              "  <thead>\n",
              "    <tr style=\"text-align: right;\">\n",
              "      <th></th>\n",
              "      <th>First Name</th>\n",
              "      <th>Gender</th>\n",
              "      <th>Start Date</th>\n",
              "      <th>Last Login Time</th>\n",
              "      <th>Salary</th>\n",
              "      <th>Bonus %</th>\n",
              "      <th>Senior Management</th>\n",
              "      <th>Team</th>\n",
              "      <th>Experience</th>\n",
              "    </tr>\n",
              "  </thead>\n",
              "  <tbody>\n",
              "    <tr>\n",
              "      <th>0</th>\n",
              "      <td>Douglas</td>\n",
              "      <td>Male</td>\n",
              "      <td>8/6/1993</td>\n",
              "      <td>12:42 PM</td>\n",
              "      <td>97308</td>\n",
              "      <td>6.945</td>\n",
              "      <td>True</td>\n",
              "      <td>Marketing</td>\n",
              "      <td>28.263014</td>\n",
              "    </tr>\n",
              "    <tr>\n",
              "      <th>2</th>\n",
              "      <td>Maria</td>\n",
              "      <td>Female</td>\n",
              "      <td>4/23/1993</td>\n",
              "      <td>11:17 AM</td>\n",
              "      <td>130590</td>\n",
              "      <td>11.858</td>\n",
              "      <td>False</td>\n",
              "      <td>Finance</td>\n",
              "      <td>28.550685</td>\n",
              "    </tr>\n",
              "    <tr>\n",
              "      <th>3</th>\n",
              "      <td>Jerry</td>\n",
              "      <td>Male</td>\n",
              "      <td>3/4/2005</td>\n",
              "      <td>1:00 PM</td>\n",
              "      <td>138705</td>\n",
              "      <td>9.340</td>\n",
              "      <td>True</td>\n",
              "      <td>Finance</td>\n",
              "      <td>16.679452</td>\n",
              "    </tr>\n",
              "    <tr>\n",
              "      <th>4</th>\n",
              "      <td>Larry</td>\n",
              "      <td>Male</td>\n",
              "      <td>1/24/1998</td>\n",
              "      <td>4:47 PM</td>\n",
              "      <td>101004</td>\n",
              "      <td>1.389</td>\n",
              "      <td>True</td>\n",
              "      <td>Client Services</td>\n",
              "      <td>23.791781</td>\n",
              "    </tr>\n",
              "    <tr>\n",
              "      <th>5</th>\n",
              "      <td>Dennis</td>\n",
              "      <td>Male</td>\n",
              "      <td>4/18/1987</td>\n",
              "      <td>1:35 AM</td>\n",
              "      <td>115163</td>\n",
              "      <td>10.125</td>\n",
              "      <td>False</td>\n",
              "      <td>Legal</td>\n",
              "      <td>34.569863</td>\n",
              "    </tr>\n",
              "    <tr>\n",
              "      <th>...</th>\n",
              "      <td>...</td>\n",
              "      <td>...</td>\n",
              "      <td>...</td>\n",
              "      <td>...</td>\n",
              "      <td>...</td>\n",
              "      <td>...</td>\n",
              "      <td>...</td>\n",
              "      <td>...</td>\n",
              "      <td>...</td>\n",
              "    </tr>\n",
              "    <tr>\n",
              "      <th>994</th>\n",
              "      <td>George</td>\n",
              "      <td>Male</td>\n",
              "      <td>6/21/2013</td>\n",
              "      <td>5:47 PM</td>\n",
              "      <td>98874</td>\n",
              "      <td>4.479</td>\n",
              "      <td>True</td>\n",
              "      <td>Marketing</td>\n",
              "      <td>8.375342</td>\n",
              "    </tr>\n",
              "    <tr>\n",
              "      <th>996</th>\n",
              "      <td>Phillip</td>\n",
              "      <td>Male</td>\n",
              "      <td>1/31/1984</td>\n",
              "      <td>6:30 AM</td>\n",
              "      <td>42392</td>\n",
              "      <td>19.675</td>\n",
              "      <td>False</td>\n",
              "      <td>Finance</td>\n",
              "      <td>37.783562</td>\n",
              "    </tr>\n",
              "    <tr>\n",
              "      <th>997</th>\n",
              "      <td>Russell</td>\n",
              "      <td>Male</td>\n",
              "      <td>5/20/2013</td>\n",
              "      <td>12:39 PM</td>\n",
              "      <td>96914</td>\n",
              "      <td>1.421</td>\n",
              "      <td>False</td>\n",
              "      <td>Product</td>\n",
              "      <td>8.463014</td>\n",
              "    </tr>\n",
              "    <tr>\n",
              "      <th>998</th>\n",
              "      <td>Larry</td>\n",
              "      <td>Male</td>\n",
              "      <td>4/20/2013</td>\n",
              "      <td>4:45 PM</td>\n",
              "      <td>60500</td>\n",
              "      <td>11.985</td>\n",
              "      <td>False</td>\n",
              "      <td>Business Development</td>\n",
              "      <td>8.545205</td>\n",
              "    </tr>\n",
              "    <tr>\n",
              "      <th>999</th>\n",
              "      <td>Albert</td>\n",
              "      <td>Male</td>\n",
              "      <td>5/15/2012</td>\n",
              "      <td>6:24 PM</td>\n",
              "      <td>129949</td>\n",
              "      <td>10.169</td>\n",
              "      <td>True</td>\n",
              "      <td>Sales</td>\n",
              "      <td>9.476712</td>\n",
              "    </tr>\n",
              "  </tbody>\n",
              "</table>\n",
              "<p>764 rows × 9 columns</p>\n",
              "</div>"
            ],
            "text/plain": [
              "    First Name  Gender  ...                  Team Experience\n",
              "0      Douglas    Male  ...             Marketing  28.263014\n",
              "2        Maria  Female  ...               Finance  28.550685\n",
              "3        Jerry    Male  ...               Finance  16.679452\n",
              "4        Larry    Male  ...       Client Services  23.791781\n",
              "5       Dennis    Male  ...                 Legal  34.569863\n",
              "..         ...     ...  ...                   ...        ...\n",
              "994     George    Male  ...             Marketing   8.375342\n",
              "996    Phillip    Male  ...               Finance  37.783562\n",
              "997    Russell    Male  ...               Product   8.463014\n",
              "998      Larry    Male  ...  Business Development   8.545205\n",
              "999     Albert    Male  ...                 Sales   9.476712\n",
              "\n",
              "[764 rows x 9 columns]"
            ]
          },
          "metadata": {},
          "execution_count": 10
        }
      ]
    },
    {
      "cell_type": "markdown",
      "metadata": {
        "id": "XMf2Idnox9Pe"
      },
      "source": [
        "Створив нову колонку experience для наступного аналізу"
      ]
    },
    {
      "cell_type": "code",
      "metadata": {
        "colab": {
          "base_uri": "https://localhost:8080/",
          "height": 423
        },
        "id": "KpgltZtZt-Zu",
        "outputId": "636620da-8593-435b-ac00-eb2a73385d6b"
      },
      "source": [
        "df = df.sort_values(by=['Experience'])\n",
        "df"
      ],
      "execution_count": null,
      "outputs": [
        {
          "output_type": "execute_result",
          "data": {
            "text/html": [
              "<div>\n",
              "<style scoped>\n",
              "    .dataframe tbody tr th:only-of-type {\n",
              "        vertical-align: middle;\n",
              "    }\n",
              "\n",
              "    .dataframe tbody tr th {\n",
              "        vertical-align: top;\n",
              "    }\n",
              "\n",
              "    .dataframe thead th {\n",
              "        text-align: right;\n",
              "    }\n",
              "</style>\n",
              "<table border=\"1\" class=\"dataframe\">\n",
              "  <thead>\n",
              "    <tr style=\"text-align: right;\">\n",
              "      <th></th>\n",
              "      <th>First Name</th>\n",
              "      <th>Gender</th>\n",
              "      <th>Start Date</th>\n",
              "      <th>Last Login Time</th>\n",
              "      <th>Salary</th>\n",
              "      <th>Bonus %</th>\n",
              "      <th>Senior Management</th>\n",
              "      <th>Team</th>\n",
              "      <th>Experience</th>\n",
              "    </tr>\n",
              "  </thead>\n",
              "  <tbody>\n",
              "    <tr>\n",
              "      <th>98</th>\n",
              "      <td>Tina</td>\n",
              "      <td>Female</td>\n",
              "      <td>6/16/2016</td>\n",
              "      <td>7:47 PM</td>\n",
              "      <td>100705</td>\n",
              "      <td>16.961</td>\n",
              "      <td>True</td>\n",
              "      <td>Marketing</td>\n",
              "      <td>5.386301</td>\n",
              "    </tr>\n",
              "    <tr>\n",
              "      <th>15</th>\n",
              "      <td>Lillian</td>\n",
              "      <td>Female</td>\n",
              "      <td>6/5/2016</td>\n",
              "      <td>6:09 AM</td>\n",
              "      <td>59414</td>\n",
              "      <td>1.256</td>\n",
              "      <td>False</td>\n",
              "      <td>Product</td>\n",
              "      <td>5.416438</td>\n",
              "    </tr>\n",
              "    <tr>\n",
              "      <th>426</th>\n",
              "      <td>Todd</td>\n",
              "      <td>Male</td>\n",
              "      <td>3/16/2016</td>\n",
              "      <td>2:45 PM</td>\n",
              "      <td>134408</td>\n",
              "      <td>3.560</td>\n",
              "      <td>True</td>\n",
              "      <td>Human Resources</td>\n",
              "      <td>5.638356</td>\n",
              "    </tr>\n",
              "    <tr>\n",
              "      <th>89</th>\n",
              "      <td>Janice</td>\n",
              "      <td>Female</td>\n",
              "      <td>3/12/2016</td>\n",
              "      <td>12:40 AM</td>\n",
              "      <td>51082</td>\n",
              "      <td>11.955</td>\n",
              "      <td>False</td>\n",
              "      <td>Legal</td>\n",
              "      <td>5.649315</td>\n",
              "    </tr>\n",
              "    <tr>\n",
              "      <th>967</th>\n",
              "      <td>Thomas</td>\n",
              "      <td>Male</td>\n",
              "      <td>3/12/2016</td>\n",
              "      <td>3:10 PM</td>\n",
              "      <td>105681</td>\n",
              "      <td>19.572</td>\n",
              "      <td>False</td>\n",
              "      <td>Engineering</td>\n",
              "      <td>5.649315</td>\n",
              "    </tr>\n",
              "    <tr>\n",
              "      <th>...</th>\n",
              "      <td>...</td>\n",
              "      <td>...</td>\n",
              "      <td>...</td>\n",
              "      <td>...</td>\n",
              "      <td>...</td>\n",
              "      <td>...</td>\n",
              "      <td>...</td>\n",
              "      <td>...</td>\n",
              "      <td>...</td>\n",
              "    </tr>\n",
              "    <tr>\n",
              "      <th>808</th>\n",
              "      <td>Julie</td>\n",
              "      <td>Female</td>\n",
              "      <td>3/8/1980</td>\n",
              "      <td>5:13 AM</td>\n",
              "      <td>145357</td>\n",
              "      <td>3.459</td>\n",
              "      <td>False</td>\n",
              "      <td>Engineering</td>\n",
              "      <td>41.684932</td>\n",
              "    </tr>\n",
              "    <tr>\n",
              "      <th>549</th>\n",
              "      <td>Sara</td>\n",
              "      <td>Female</td>\n",
              "      <td>2/25/1980</td>\n",
              "      <td>10:50 PM</td>\n",
              "      <td>75484</td>\n",
              "      <td>3.186</td>\n",
              "      <td>False</td>\n",
              "      <td>Finance</td>\n",
              "      <td>41.717808</td>\n",
              "    </tr>\n",
              "    <tr>\n",
              "      <th>272</th>\n",
              "      <td>Fred</td>\n",
              "      <td>Male</td>\n",
              "      <td>2/20/1980</td>\n",
              "      <td>2:25 AM</td>\n",
              "      <td>74129</td>\n",
              "      <td>18.225</td>\n",
              "      <td>False</td>\n",
              "      <td>Product</td>\n",
              "      <td>41.731507</td>\n",
              "    </tr>\n",
              "    <tr>\n",
              "      <th>881</th>\n",
              "      <td>Ruby</td>\n",
              "      <td>Female</td>\n",
              "      <td>1/28/1980</td>\n",
              "      <td>11:08 PM</td>\n",
              "      <td>142868</td>\n",
              "      <td>6.318</td>\n",
              "      <td>False</td>\n",
              "      <td>Marketing</td>\n",
              "      <td>41.794521</td>\n",
              "    </tr>\n",
              "    <tr>\n",
              "      <th>954</th>\n",
              "      <td>Joe</td>\n",
              "      <td>Male</td>\n",
              "      <td>1/19/1980</td>\n",
              "      <td>4:06 PM</td>\n",
              "      <td>119667</td>\n",
              "      <td>1.148</td>\n",
              "      <td>True</td>\n",
              "      <td>Finance</td>\n",
              "      <td>41.819178</td>\n",
              "    </tr>\n",
              "  </tbody>\n",
              "</table>\n",
              "<p>764 rows × 9 columns</p>\n",
              "</div>"
            ],
            "text/plain": [
              "    First Name  Gender  ...             Team Experience\n",
              "98        Tina  Female  ...        Marketing   5.386301\n",
              "15     Lillian  Female  ...          Product   5.416438\n",
              "426       Todd    Male  ...  Human Resources   5.638356\n",
              "89      Janice  Female  ...            Legal   5.649315\n",
              "967     Thomas    Male  ...      Engineering   5.649315\n",
              "..         ...     ...  ...              ...        ...\n",
              "808      Julie  Female  ...      Engineering  41.684932\n",
              "549       Sara  Female  ...          Finance  41.717808\n",
              "272       Fred    Male  ...          Product  41.731507\n",
              "881       Ruby  Female  ...        Marketing  41.794521\n",
              "954        Joe    Male  ...          Finance  41.819178\n",
              "\n",
              "[764 rows x 9 columns]"
            ]
          },
          "metadata": {},
          "execution_count": 11
        }
      ]
    },
    {
      "cell_type": "markdown",
      "metadata": {
        "id": "NabzMWaWyKIL"
      },
      "source": [
        "Сортувати кадри даних зі стажу по зростанню досвіду"
      ]
    },
    {
      "cell_type": "code",
      "metadata": {
        "colab": {
          "base_uri": "https://localhost:8080/",
          "height": 611
        },
        "id": "V96QLacUuBLR",
        "outputId": "7649c541-f0f1-43fd-89fa-bdffe6efce6e"
      },
      "source": [
        "df.groupby(['Senior Management']).plot(x='Experience', y='Salary')"
      ],
      "execution_count": null,
      "outputs": [
        {
          "output_type": "execute_result",
          "data": {
            "text/plain": [
              "Senior Management\n",
              "False    AxesSubplot(0.125,0.125;0.775x0.755)\n",
              "True     AxesSubplot(0.125,0.125;0.775x0.755)\n",
              "dtype: object"
            ]
          },
          "metadata": {},
          "execution_count": 12
        },
        {
          "output_type": "display_data",
          "data": {
            "image/png": "[encoded data removed]",
            "text/plain": [
              "<Figure size 432x288 with 1 Axes>"
            ]
          },
          "metadata": {
            "needs_background": "light"
          }
        },
        {
          "output_type": "display_data",
          "data": {
            "image/png": "[encoded data removed]",
            "text/plain": [
              "<Figure size 432x288 with 1 Axes>"
            ]
          },
          "metadata": {
            "needs_background": "light"
          }
        }
      ]
    },
    {
      "cell_type": "markdown",
      "metadata": {
        "id": "d2tbsmODyTYV"
      },
      "source": [
        "Провів аналіз, між досвідом та зарплатою немає жодного зв'язку"
      ]
    },
    {
      "cell_type": "code",
      "metadata": {
        "colab": {
          "base_uri": "https://localhost:8080/",
          "height": 297
        },
        "id": "gWiyk8tduEkv",
        "outputId": "9a3c47eb-1505-4c26-f3ae-b851cc95adb7"
      },
      "source": [
        "df.sort_values(by=['Salary']).plot(x='Salary', y='Bonus %')"
      ],
      "execution_count": null,
      "outputs": [
        {
          "output_type": "execute_result",
          "data": {
            "text/plain": [
              "<matplotlib.axes._subplots.AxesSubplot at 0x7f809efb0710>"
            ]
          },
          "metadata": {},
          "execution_count": 13
        },
        {
          "output_type": "display_data",
          "data": {
            "image/png": "[encoded data removed]",
            "text/plain": [
              "<Figure size 432x288 with 1 Axes>"
            ]
          },
          "metadata": {
            "needs_background": "light"
          }
        }
      ]
    },
    {
      "cell_type": "markdown",
      "metadata": {
        "id": "TVKW0FkUyiWl"
      },
      "source": [
        "Немає зв'язку між зарплатою та бонусом %"
      ]
    },
    {
      "cell_type": "code",
      "metadata": {
        "colab": {
          "base_uri": "https://localhost:8080/",
          "height": 299
        },
        "id": "XoBNHZrMuH7V",
        "outputId": "dba3cc56-2597-4884-f347-579251c64771"
      },
      "source": [
        "coef = df['Salary'].max()/10\n",
        "d = dict.fromkeys(range(11), 0)\n",
        "for salary in df['Salary']:\n",
        "  d[int(salary / coef)] += 1\n",
        "\n",
        "salaryDF = pd.DataFrame(d.items(), columns=['Salary %', 'Employees'])\n",
        "salaryDF.plot.bar(x='Salary %', y='Employees')"
      ],
      "execution_count": null,
      "outputs": [
        {
          "output_type": "execute_result",
          "data": {
            "text/plain": [
              "<matplotlib.axes._subplots.AxesSubplot at 0x7f809eac9b90>"
            ]
          },
          "metadata": {},
          "execution_count": 14
        },
        {
          "output_type": "display_data",
          "data": {
            "image/png": "[encoded data removed]",
            "text/plain": [
              "<Figure size 432x288 with 1 Axes>"
            ]
          },
          "metadata": {
            "needs_background": "light"
          }
        }
      ]
    },
    {
      "cell_type": "markdown",
      "metadata": {
        "id": "MDPtQ8LV0v6-"
      },
      "source": [
        "Графік залежності кількості працівників від зарплати"
      ]
    },
    {
      "cell_type": "code",
      "metadata": {
        "id": "CX0sf6KiuLEu"
      },
      "source": [
        "df.to_csv(index=False)\n",
        "with pd.ExcelWriter('output.xlsx') as writer:  \n",
        "    df.to_excel(writer, sheet_name='Sheet_name_3')"
      ],
      "execution_count": null,
      "outputs": []
    },
    {
      "cell_type": "markdown",
      "metadata": {
        "id": "oMozRrcX04mZ"
      },
      "source": [
        "Зберігаю датасет"
      ]
    },
    {
      "cell_type": "code",
      "metadata": {
        "colab": {
          "base_uri": "https://localhost:8080/",
          "height": 293
        },
        "id": "1jIyGtFeuNkd",
        "outputId": "f14e2942-b99e-467e-a111-d60ca4c45525"
      },
      "source": [
        "df['uuid'] = df.apply(lambda _: uuid.uuid4(), axis=1)\n",
        "df.head()"
      ],
      "execution_count": null,
      "outputs": [
        {
          "output_type": "execute_result",
          "data": {
            "text/html": [
              "<div>\n",
              "<style scoped>\n",
              "    .dataframe tbody tr th:only-of-type {\n",
              "        vertical-align: middle;\n",
              "    }\n",
              "\n",
              "    .dataframe tbody tr th {\n",
              "        vertical-align: top;\n",
              "    }\n",
              "\n",
              "    .dataframe thead th {\n",
              "        text-align: right;\n",
              "    }\n",
              "</style>\n",
              "<table border=\"1\" class=\"dataframe\">\n",
              "  <thead>\n",
              "    <tr style=\"text-align: right;\">\n",
              "      <th></th>\n",
              "      <th>First Name</th>\n",
              "      <th>Gender</th>\n",
              "      <th>Start Date</th>\n",
              "      <th>Last Login Time</th>\n",
              "      <th>Salary</th>\n",
              "      <th>Bonus %</th>\n",
              "      <th>Senior Management</th>\n",
              "      <th>Team</th>\n",
              "      <th>Experience</th>\n",
              "      <th>uuid</th>\n",
              "    </tr>\n",
              "  </thead>\n",
              "  <tbody>\n",
              "    <tr>\n",
              "      <th>98</th>\n",
              "      <td>Tina</td>\n",
              "      <td>Female</td>\n",
              "      <td>6/16/2016</td>\n",
              "      <td>7:47 PM</td>\n",
              "      <td>100705</td>\n",
              "      <td>16.961</td>\n",
              "      <td>True</td>\n",
              "      <td>Marketing</td>\n",
              "      <td>5.386301</td>\n",
              "      <td>fcc29c06-02f9-4551-b16f-24a7b548b84c</td>\n",
              "    </tr>\n",
              "    <tr>\n",
              "      <th>15</th>\n",
              "      <td>Lillian</td>\n",
              "      <td>Female</td>\n",
              "      <td>6/5/2016</td>\n",
              "      <td>6:09 AM</td>\n",
              "      <td>59414</td>\n",
              "      <td>1.256</td>\n",
              "      <td>False</td>\n",
              "      <td>Product</td>\n",
              "      <td>5.416438</td>\n",
              "      <td>522b77b4-37d7-4457-a104-3f37e4680818</td>\n",
              "    </tr>\n",
              "    <tr>\n",
              "      <th>426</th>\n",
              "      <td>Todd</td>\n",
              "      <td>Male</td>\n",
              "      <td>3/16/2016</td>\n",
              "      <td>2:45 PM</td>\n",
              "      <td>134408</td>\n",
              "      <td>3.560</td>\n",
              "      <td>True</td>\n",
              "      <td>Human Resources</td>\n",
              "      <td>5.638356</td>\n",
              "      <td>0235542c-6040-45fb-a270-10827b87590a</td>\n",
              "    </tr>\n",
              "    <tr>\n",
              "      <th>89</th>\n",
              "      <td>Janice</td>\n",
              "      <td>Female</td>\n",
              "      <td>3/12/2016</td>\n",
              "      <td>12:40 AM</td>\n",
              "      <td>51082</td>\n",
              "      <td>11.955</td>\n",
              "      <td>False</td>\n",
              "      <td>Legal</td>\n",
              "      <td>5.649315</td>\n",
              "      <td>ecb95794-bc50-417f-bece-d61e814417a2</td>\n",
              "    </tr>\n",
              "    <tr>\n",
              "      <th>967</th>\n",
              "      <td>Thomas</td>\n",
              "      <td>Male</td>\n",
              "      <td>3/12/2016</td>\n",
              "      <td>3:10 PM</td>\n",
              "      <td>105681</td>\n",
              "      <td>19.572</td>\n",
              "      <td>False</td>\n",
              "      <td>Engineering</td>\n",
              "      <td>5.649315</td>\n",
              "      <td>de36505e-144c-4e9e-b113-314df1c9e957</td>\n",
              "    </tr>\n",
              "  </tbody>\n",
              "</table>\n",
              "</div>"
            ],
            "text/plain": [
              "    First Name  Gender  ... Experience                                  uuid\n",
              "98        Tina  Female  ...   5.386301  fcc29c06-02f9-4551-b16f-24a7b548b84c\n",
              "15     Lillian  Female  ...   5.416438  522b77b4-37d7-4457-a104-3f37e4680818\n",
              "426       Todd    Male  ...   5.638356  0235542c-6040-45fb-a270-10827b87590a\n",
              "89      Janice  Female  ...   5.649315  ecb95794-bc50-417f-bece-d61e814417a2\n",
              "967     Thomas    Male  ...   5.649315  de36505e-144c-4e9e-b113-314df1c9e957\n",
              "\n",
              "[5 rows x 10 columns]"
            ]
          },
          "metadata": {},
          "execution_count": 16
        }
      ]
    },
    {
      "cell_type": "markdown",
      "metadata": {
        "id": "rsqxcv2hy020"
      },
      "source": [
        "Щоб використовувати 'joins' та 'merge', давайте створимо uuid для кожного співробітника і створимо 2 нових кадру даних з поточного"
      ]
    },
    {
      "cell_type": "code",
      "metadata": {
        "colab": {
          "base_uri": "https://localhost:8080/",
          "height": 206
        },
        "id": "MjT5Ki4ZuPxd",
        "outputId": "61ae2623-39eb-4515-8596-72e61390aa5d"
      },
      "source": [
        "personalInfo = df[['uuid', 'First Name', 'Gender', 'Start Date', 'Salary']]\n",
        "personalInfo.head()"
      ],
      "execution_count": null,
      "outputs": [
        {
          "output_type": "execute_result",
          "data": {
            "text/html": [
              "<div>\n",
              "<style scoped>\n",
              "    .dataframe tbody tr th:only-of-type {\n",
              "        vertical-align: middle;\n",
              "    }\n",
              "\n",
              "    .dataframe tbody tr th {\n",
              "        vertical-align: top;\n",
              "    }\n",
              "\n",
              "    .dataframe thead th {\n",
              "        text-align: right;\n",
              "    }\n",
              "</style>\n",
              "<table border=\"1\" class=\"dataframe\">\n",
              "  <thead>\n",
              "    <tr style=\"text-align: right;\">\n",
              "      <th></th>\n",
              "      <th>uuid</th>\n",
              "      <th>First Name</th>\n",
              "      <th>Gender</th>\n",
              "      <th>Start Date</th>\n",
              "      <th>Salary</th>\n",
              "    </tr>\n",
              "  </thead>\n",
              "  <tbody>\n",
              "    <tr>\n",
              "      <th>98</th>\n",
              "      <td>fcc29c06-02f9-4551-b16f-24a7b548b84c</td>\n",
              "      <td>Tina</td>\n",
              "      <td>Female</td>\n",
              "      <td>6/16/2016</td>\n",
              "      <td>100705</td>\n",
              "    </tr>\n",
              "    <tr>\n",
              "      <th>15</th>\n",
              "      <td>522b77b4-37d7-4457-a104-3f37e4680818</td>\n",
              "      <td>Lillian</td>\n",
              "      <td>Female</td>\n",
              "      <td>6/5/2016</td>\n",
              "      <td>59414</td>\n",
              "    </tr>\n",
              "    <tr>\n",
              "      <th>426</th>\n",
              "      <td>0235542c-6040-45fb-a270-10827b87590a</td>\n",
              "      <td>Todd</td>\n",
              "      <td>Male</td>\n",
              "      <td>3/16/2016</td>\n",
              "      <td>134408</td>\n",
              "    </tr>\n",
              "    <tr>\n",
              "      <th>89</th>\n",
              "      <td>ecb95794-bc50-417f-bece-d61e814417a2</td>\n",
              "      <td>Janice</td>\n",
              "      <td>Female</td>\n",
              "      <td>3/12/2016</td>\n",
              "      <td>51082</td>\n",
              "    </tr>\n",
              "    <tr>\n",
              "      <th>967</th>\n",
              "      <td>de36505e-144c-4e9e-b113-314df1c9e957</td>\n",
              "      <td>Thomas</td>\n",
              "      <td>Male</td>\n",
              "      <td>3/12/2016</td>\n",
              "      <td>105681</td>\n",
              "    </tr>\n",
              "  </tbody>\n",
              "</table>\n",
              "</div>"
            ],
            "text/plain": [
              "                                     uuid First Name  Gender Start Date  Salary\n",
              "98   fcc29c06-02f9-4551-b16f-24a7b548b84c       Tina  Female  6/16/2016  100705\n",
              "15   522b77b4-37d7-4457-a104-3f37e4680818    Lillian  Female   6/5/2016   59414\n",
              "426  0235542c-6040-45fb-a270-10827b87590a       Todd    Male  3/16/2016  134408\n",
              "89   ecb95794-bc50-417f-bece-d61e814417a2     Janice  Female  3/12/2016   51082\n",
              "967  de36505e-144c-4e9e-b113-314df1c9e957     Thomas    Male  3/12/2016  105681"
            ]
          },
          "metadata": {},
          "execution_count": 17
        }
      ]
    },
    {
      "cell_type": "markdown",
      "metadata": {
        "id": "AFp7yroU1Ikn"
      },
      "source": [
        "База даних з персональною інформацією"
      ]
    },
    {
      "cell_type": "code",
      "metadata": {
        "colab": {
          "base_uri": "https://localhost:8080/",
          "height": 206
        },
        "id": "urdt81xCuSVI",
        "outputId": "a8d2f8d6-8099-4178-9109-a65a43694946"
      },
      "source": [
        "employeeInfo = df[['uuid', 'Last Login Time', 'Bonus %', 'Senior Management', 'Team', 'Experience']]\n",
        "employeeInfo.head()"
      ],
      "execution_count": null,
      "outputs": [
        {
          "output_type": "execute_result",
          "data": {
            "text/html": [
              "<div>\n",
              "<style scoped>\n",
              "    .dataframe tbody tr th:only-of-type {\n",
              "        vertical-align: middle;\n",
              "    }\n",
              "\n",
              "    .dataframe tbody tr th {\n",
              "        vertical-align: top;\n",
              "    }\n",
              "\n",
              "    .dataframe thead th {\n",
              "        text-align: right;\n",
              "    }\n",
              "</style>\n",
              "<table border=\"1\" class=\"dataframe\">\n",
              "  <thead>\n",
              "    <tr style=\"text-align: right;\">\n",
              "      <th></th>\n",
              "      <th>uuid</th>\n",
              "      <th>Last Login Time</th>\n",
              "      <th>Bonus %</th>\n",
              "      <th>Senior Management</th>\n",
              "      <th>Team</th>\n",
              "      <th>Experience</th>\n",
              "    </tr>\n",
              "  </thead>\n",
              "  <tbody>\n",
              "    <tr>\n",
              "      <th>98</th>\n",
              "      <td>fcc29c06-02f9-4551-b16f-24a7b548b84c</td>\n",
              "      <td>7:47 PM</td>\n",
              "      <td>16.961</td>\n",
              "      <td>True</td>\n",
              "      <td>Marketing</td>\n",
              "      <td>5.386301</td>\n",
              "    </tr>\n",
              "    <tr>\n",
              "      <th>15</th>\n",
              "      <td>522b77b4-37d7-4457-a104-3f37e4680818</td>\n",
              "      <td>6:09 AM</td>\n",
              "      <td>1.256</td>\n",
              "      <td>False</td>\n",
              "      <td>Product</td>\n",
              "      <td>5.416438</td>\n",
              "    </tr>\n",
              "    <tr>\n",
              "      <th>426</th>\n",
              "      <td>0235542c-6040-45fb-a270-10827b87590a</td>\n",
              "      <td>2:45 PM</td>\n",
              "      <td>3.560</td>\n",
              "      <td>True</td>\n",
              "      <td>Human Resources</td>\n",
              "      <td>5.638356</td>\n",
              "    </tr>\n",
              "    <tr>\n",
              "      <th>89</th>\n",
              "      <td>ecb95794-bc50-417f-bece-d61e814417a2</td>\n",
              "      <td>12:40 AM</td>\n",
              "      <td>11.955</td>\n",
              "      <td>False</td>\n",
              "      <td>Legal</td>\n",
              "      <td>5.649315</td>\n",
              "    </tr>\n",
              "    <tr>\n",
              "      <th>967</th>\n",
              "      <td>de36505e-144c-4e9e-b113-314df1c9e957</td>\n",
              "      <td>3:10 PM</td>\n",
              "      <td>19.572</td>\n",
              "      <td>False</td>\n",
              "      <td>Engineering</td>\n",
              "      <td>5.649315</td>\n",
              "    </tr>\n",
              "  </tbody>\n",
              "</table>\n",
              "</div>"
            ],
            "text/plain": [
              "                                     uuid  ... Experience\n",
              "98   fcc29c06-02f9-4551-b16f-24a7b548b84c  ...   5.386301\n",
              "15   522b77b4-37d7-4457-a104-3f37e4680818  ...   5.416438\n",
              "426  0235542c-6040-45fb-a270-10827b87590a  ...   5.638356\n",
              "89   ecb95794-bc50-417f-bece-d61e814417a2  ...   5.649315\n",
              "967  de36505e-144c-4e9e-b113-314df1c9e957  ...   5.649315\n",
              "\n",
              "[5 rows x 6 columns]"
            ]
          },
          "metadata": {},
          "execution_count": 18
        }
      ]
    },
    {
      "cell_type": "markdown",
      "metadata": {
        "id": "cVfSxX8N1Pyu"
      },
      "source": [
        "Бази даних з робочою інформацією"
      ]
    },
    {
      "cell_type": "code",
      "metadata": {
        "id": "ptApKaOOuU1p",
        "colab": {
          "base_uri": "https://localhost:8080/",
          "height": 562
        },
        "outputId": "41bd8bde-8bfd-438a-f0bc-fada553478fb"
      },
      "source": [
        "pd.merge(personalInfo, employeeInfo, on='uuid',how='left')"
      ],
      "execution_count": null,
      "outputs": [
        {
          "output_type": "execute_result",
          "data": {
            "text/html": [
              "<div>\n",
              "<style scoped>\n",
              "    .dataframe tbody tr th:only-of-type {\n",
              "        vertical-align: middle;\n",
              "    }\n",
              "\n",
              "    .dataframe tbody tr th {\n",
              "        vertical-align: top;\n",
              "    }\n",
              "\n",
              "    .dataframe thead th {\n",
              "        text-align: right;\n",
              "    }\n",
              "</style>\n",
              "<table border=\"1\" class=\"dataframe\">\n",
              "  <thead>\n",
              "    <tr style=\"text-align: right;\">\n",
              "      <th></th>\n",
              "      <th>uuid</th>\n",
              "      <th>First Name</th>\n",
              "      <th>Gender</th>\n",
              "      <th>Start Date</th>\n",
              "      <th>Salary</th>\n",
              "      <th>Last Login Time</th>\n",
              "      <th>Bonus %</th>\n",
              "      <th>Senior Management</th>\n",
              "      <th>Team</th>\n",
              "      <th>Experience</th>\n",
              "    </tr>\n",
              "  </thead>\n",
              "  <tbody>\n",
              "    <tr>\n",
              "      <th>0</th>\n",
              "      <td>fcc29c06-02f9-4551-b16f-24a7b548b84c</td>\n",
              "      <td>Tina</td>\n",
              "      <td>Female</td>\n",
              "      <td>6/16/2016</td>\n",
              "      <td>100705</td>\n",
              "      <td>7:47 PM</td>\n",
              "      <td>16.961</td>\n",
              "      <td>True</td>\n",
              "      <td>Marketing</td>\n",
              "      <td>5.386301</td>\n",
              "    </tr>\n",
              "    <tr>\n",
              "      <th>1</th>\n",
              "      <td>522b77b4-37d7-4457-a104-3f37e4680818</td>\n",
              "      <td>Lillian</td>\n",
              "      <td>Female</td>\n",
              "      <td>6/5/2016</td>\n",
              "      <td>59414</td>\n",
              "      <td>6:09 AM</td>\n",
              "      <td>1.256</td>\n",
              "      <td>False</td>\n",
              "      <td>Product</td>\n",
              "      <td>5.416438</td>\n",
              "    </tr>\n",
              "    <tr>\n",
              "      <th>2</th>\n",
              "      <td>0235542c-6040-45fb-a270-10827b87590a</td>\n",
              "      <td>Todd</td>\n",
              "      <td>Male</td>\n",
              "      <td>3/16/2016</td>\n",
              "      <td>134408</td>\n",
              "      <td>2:45 PM</td>\n",
              "      <td>3.560</td>\n",
              "      <td>True</td>\n",
              "      <td>Human Resources</td>\n",
              "      <td>5.638356</td>\n",
              "    </tr>\n",
              "    <tr>\n",
              "      <th>3</th>\n",
              "      <td>ecb95794-bc50-417f-bece-d61e814417a2</td>\n",
              "      <td>Janice</td>\n",
              "      <td>Female</td>\n",
              "      <td>3/12/2016</td>\n",
              "      <td>51082</td>\n",
              "      <td>12:40 AM</td>\n",
              "      <td>11.955</td>\n",
              "      <td>False</td>\n",
              "      <td>Legal</td>\n",
              "      <td>5.649315</td>\n",
              "    </tr>\n",
              "    <tr>\n",
              "      <th>4</th>\n",
              "      <td>de36505e-144c-4e9e-b113-314df1c9e957</td>\n",
              "      <td>Thomas</td>\n",
              "      <td>Male</td>\n",
              "      <td>3/12/2016</td>\n",
              "      <td>105681</td>\n",
              "      <td>3:10 PM</td>\n",
              "      <td>19.572</td>\n",
              "      <td>False</td>\n",
              "      <td>Engineering</td>\n",
              "      <td>5.649315</td>\n",
              "    </tr>\n",
              "    <tr>\n",
              "      <th>...</th>\n",
              "      <td>...</td>\n",
              "      <td>...</td>\n",
              "      <td>...</td>\n",
              "      <td>...</td>\n",
              "      <td>...</td>\n",
              "      <td>...</td>\n",
              "      <td>...</td>\n",
              "      <td>...</td>\n",
              "      <td>...</td>\n",
              "      <td>...</td>\n",
              "    </tr>\n",
              "    <tr>\n",
              "      <th>759</th>\n",
              "      <td>129f7979-ef14-4fef-9043-9e411f820128</td>\n",
              "      <td>Julie</td>\n",
              "      <td>Female</td>\n",
              "      <td>3/8/1980</td>\n",
              "      <td>145357</td>\n",
              "      <td>5:13 AM</td>\n",
              "      <td>3.459</td>\n",
              "      <td>False</td>\n",
              "      <td>Engineering</td>\n",
              "      <td>41.684932</td>\n",
              "    </tr>\n",
              "    <tr>\n",
              "      <th>760</th>\n",
              "      <td>78b850a1-1789-403c-90ee-d7e5e3992393</td>\n",
              "      <td>Sara</td>\n",
              "      <td>Female</td>\n",
              "      <td>2/25/1980</td>\n",
              "      <td>75484</td>\n",
              "      <td>10:50 PM</td>\n",
              "      <td>3.186</td>\n",
              "      <td>False</td>\n",
              "      <td>Finance</td>\n",
              "      <td>41.717808</td>\n",
              "    </tr>\n",
              "    <tr>\n",
              "      <th>761</th>\n",
              "      <td>bb7428f9-8cd4-4bf8-b381-590fdc2671a8</td>\n",
              "      <td>Fred</td>\n",
              "      <td>Male</td>\n",
              "      <td>2/20/1980</td>\n",
              "      <td>74129</td>\n",
              "      <td>2:25 AM</td>\n",
              "      <td>18.225</td>\n",
              "      <td>False</td>\n",
              "      <td>Product</td>\n",
              "      <td>41.731507</td>\n",
              "    </tr>\n",
              "    <tr>\n",
              "      <th>762</th>\n",
              "      <td>754f51ac-6c28-47d0-8f97-268ed4483b6e</td>\n",
              "      <td>Ruby</td>\n",
              "      <td>Female</td>\n",
              "      <td>1/28/1980</td>\n",
              "      <td>142868</td>\n",
              "      <td>11:08 PM</td>\n",
              "      <td>6.318</td>\n",
              "      <td>False</td>\n",
              "      <td>Marketing</td>\n",
              "      <td>41.794521</td>\n",
              "    </tr>\n",
              "    <tr>\n",
              "      <th>763</th>\n",
              "      <td>01b6792c-63db-4032-80cb-6fca13bea911</td>\n",
              "      <td>Joe</td>\n",
              "      <td>Male</td>\n",
              "      <td>1/19/1980</td>\n",
              "      <td>119667</td>\n",
              "      <td>4:06 PM</td>\n",
              "      <td>1.148</td>\n",
              "      <td>True</td>\n",
              "      <td>Finance</td>\n",
              "      <td>41.819178</td>\n",
              "    </tr>\n",
              "  </tbody>\n",
              "</table>\n",
              "<p>764 rows × 10 columns</p>\n",
              "</div>"
            ],
            "text/plain": [
              "                                     uuid  ... Experience\n",
              "0    fcc29c06-02f9-4551-b16f-24a7b548b84c  ...   5.386301\n",
              "1    522b77b4-37d7-4457-a104-3f37e4680818  ...   5.416438\n",
              "2    0235542c-6040-45fb-a270-10827b87590a  ...   5.638356\n",
              "3    ecb95794-bc50-417f-bece-d61e814417a2  ...   5.649315\n",
              "4    de36505e-144c-4e9e-b113-314df1c9e957  ...   5.649315\n",
              "..                                    ...  ...        ...\n",
              "759  129f7979-ef14-4fef-9043-9e411f820128  ...  41.684932\n",
              "760  78b850a1-1789-403c-90ee-d7e5e3992393  ...  41.717808\n",
              "761  bb7428f9-8cd4-4bf8-b381-590fdc2671a8  ...  41.731507\n",
              "762  754f51ac-6c28-47d0-8f97-268ed4483b6e  ...  41.794521\n",
              "763  01b6792c-63db-4032-80cb-6fca13bea911  ...  41.819178\n",
              "\n",
              "[764 rows x 10 columns]"
            ]
          },
          "metadata": {},
          "execution_count": 22
        }
      ]
    },
    {
      "cell_type": "markdown",
      "metadata": {
        "id": "iodGc30611wZ"
      },
      "source": [
        "Висновок: На даній лабораторній роботі працював над аналізом даних з використанням бібліотек pandas and matplotlib. Виконав попередню обробку даних, застосував агрегацію, групування та фільтрацію даних. Реалізував візуалізацію для валідованих та конвертованих даних. Дослідив типи об'єднання даних (merge/join)."
      ]
    }
  ]
}